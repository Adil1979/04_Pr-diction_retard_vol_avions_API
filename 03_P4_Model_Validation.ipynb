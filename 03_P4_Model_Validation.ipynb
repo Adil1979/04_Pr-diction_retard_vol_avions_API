{
 "cells": [
  {
   "cell_type": "markdown",
   "metadata": {},
   "source": [
    "# Projet 4 : **Anticiper le retard de vols des avions**"
   ]
  },
  {
   "cell_type": "markdown",
   "metadata": {},
   "source": [
    "## **1.Libraries**"
   ]
  },
  {
   "cell_type": "code",
   "execution_count": 1,
   "metadata": {},
   "outputs": [],
   "source": [
    "import numpy as np\n",
    "import pandas as pd\n",
    "import matplotlib.pyplot as plt\n",
    "%matplotlib inline\n",
    "from matplotlib.lines import Line2D\n",
    "import seaborn as sns\n",
    "from scipy import stats\n",
    "from sklearn import preprocessing\n",
    "from os import listdir\n",
    "import glob\n",
    "import missingno as msno\n",
    "from feature_engine.categorical_encoders import OneHotCategoricalEncoder\n",
    "from sklearn.model_selection import train_test_split\n",
    "from sklearn.preprocessing import StandardScaler\n",
    "from sklearn.preprocessing import scale\n",
    "from sklearn.model_selection import cross_val_score, KFold\n",
    "from sklearn.metrics import r2_score, mean_squared_error\n",
    "from sklearn.linear_model import LinearRegression\n",
    "from sklearn.model_selection import GridSearchCV\n",
    "import itertools\n",
    "import pickle \n",
    "from sklearn.externals import joblib\n",
    "import gzip"
   ]
  },
  {
   "cell_type": "markdown",
   "metadata": {},
   "source": [
    "## **2.Data Set**"
   ]
  },
  {
   "cell_type": "code",
   "execution_count": 2,
   "metadata": {},
   "outputs": [
    {
     "data": {
      "text/html": [
       "<div>\n",
       "<style scoped>\n",
       "    .dataframe tbody tr th:only-of-type {\n",
       "        vertical-align: middle;\n",
       "    }\n",
       "\n",
       "    .dataframe tbody tr th {\n",
       "        vertical-align: top;\n",
       "    }\n",
       "\n",
       "    .dataframe thead th {\n",
       "        text-align: right;\n",
       "    }\n",
       "</style>\n",
       "<table border=\"1\" class=\"dataframe\">\n",
       "  <thead>\n",
       "    <tr style=\"text-align: right;\">\n",
       "      <th></th>\n",
       "      <th>DEP_DELAY</th>\n",
       "      <th>CARRIER_AA</th>\n",
       "      <th>CARRIER_UA</th>\n",
       "      <th>CARRIER_WN</th>\n",
       "      <th>CARRIER_EV</th>\n",
       "      <th>CARRIER_B6</th>\n",
       "      <th>CARRIER_NK</th>\n",
       "      <th>CARRIER_DL</th>\n",
       "      <th>CARRIER_AS</th>\n",
       "      <th>CARRIER_OO</th>\n",
       "      <th>...</th>\n",
       "      <th>CRS_DEP_TIME_8</th>\n",
       "      <th>CRS_DEP_TIME_23</th>\n",
       "      <th>CRS_DEP_TIME_0</th>\n",
       "      <th>CRS_DEP_TIME_3</th>\n",
       "      <th>CRS_DEP_TIME_2</th>\n",
       "      <th>CARRIER_DELAY</th>\n",
       "      <th>WEATHER_DELAY</th>\n",
       "      <th>NAS_DELAY</th>\n",
       "      <th>SECURITY_DELAY</th>\n",
       "      <th>LATE_AIRCRAFT_DELAY</th>\n",
       "    </tr>\n",
       "  </thead>\n",
       "  <tbody>\n",
       "    <tr>\n",
       "      <th>0</th>\n",
       "      <td>-3</td>\n",
       "      <td>1</td>\n",
       "      <td>0</td>\n",
       "      <td>0</td>\n",
       "      <td>0</td>\n",
       "      <td>0</td>\n",
       "      <td>0</td>\n",
       "      <td>0</td>\n",
       "      <td>0</td>\n",
       "      <td>0</td>\n",
       "      <td>...</td>\n",
       "      <td>0</td>\n",
       "      <td>0</td>\n",
       "      <td>0</td>\n",
       "      <td>0</td>\n",
       "      <td>0</td>\n",
       "      <td>-0.720957</td>\n",
       "      <td>-0.065652</td>\n",
       "      <td>1.835812</td>\n",
       "      <td>-0.026497</td>\n",
       "      <td>-0.773717</td>\n",
       "    </tr>\n",
       "    <tr>\n",
       "      <th>1</th>\n",
       "      <td>39</td>\n",
       "      <td>0</td>\n",
       "      <td>1</td>\n",
       "      <td>0</td>\n",
       "      <td>0</td>\n",
       "      <td>0</td>\n",
       "      <td>0</td>\n",
       "      <td>0</td>\n",
       "      <td>0</td>\n",
       "      <td>0</td>\n",
       "      <td>...</td>\n",
       "      <td>0</td>\n",
       "      <td>0</td>\n",
       "      <td>0</td>\n",
       "      <td>0</td>\n",
       "      <td>0</td>\n",
       "      <td>2.741342</td>\n",
       "      <td>-0.065652</td>\n",
       "      <td>2.683872</td>\n",
       "      <td>-0.026497</td>\n",
       "      <td>-0.773717</td>\n",
       "    </tr>\n",
       "    <tr>\n",
       "      <th>2</th>\n",
       "      <td>20</td>\n",
       "      <td>0</td>\n",
       "      <td>0</td>\n",
       "      <td>1</td>\n",
       "      <td>0</td>\n",
       "      <td>0</td>\n",
       "      <td>0</td>\n",
       "      <td>0</td>\n",
       "      <td>0</td>\n",
       "      <td>0</td>\n",
       "      <td>...</td>\n",
       "      <td>0</td>\n",
       "      <td>0</td>\n",
       "      <td>0</td>\n",
       "      <td>0</td>\n",
       "      <td>0</td>\n",
       "      <td>1.054581</td>\n",
       "      <td>-0.065652</td>\n",
       "      <td>-0.623562</td>\n",
       "      <td>-0.026497</td>\n",
       "      <td>-0.773717</td>\n",
       "    </tr>\n",
       "    <tr>\n",
       "      <th>3</th>\n",
       "      <td>17</td>\n",
       "      <td>0</td>\n",
       "      <td>0</td>\n",
       "      <td>0</td>\n",
       "      <td>1</td>\n",
       "      <td>0</td>\n",
       "      <td>0</td>\n",
       "      <td>0</td>\n",
       "      <td>0</td>\n",
       "      <td>0</td>\n",
       "      <td>...</td>\n",
       "      <td>0</td>\n",
       "      <td>0</td>\n",
       "      <td>0</td>\n",
       "      <td>0</td>\n",
       "      <td>0</td>\n",
       "      <td>-0.720957</td>\n",
       "      <td>-0.065652</td>\n",
       "      <td>0.394110</td>\n",
       "      <td>-0.026497</td>\n",
       "      <td>0.056031</td>\n",
       "    </tr>\n",
       "    <tr>\n",
       "      <th>4</th>\n",
       "      <td>20</td>\n",
       "      <td>0</td>\n",
       "      <td>1</td>\n",
       "      <td>0</td>\n",
       "      <td>0</td>\n",
       "      <td>0</td>\n",
       "      <td>0</td>\n",
       "      <td>0</td>\n",
       "      <td>0</td>\n",
       "      <td>0</td>\n",
       "      <td>...</td>\n",
       "      <td>0</td>\n",
       "      <td>0</td>\n",
       "      <td>0</td>\n",
       "      <td>0</td>\n",
       "      <td>0</td>\n",
       "      <td>0.877027</td>\n",
       "      <td>-0.065652</td>\n",
       "      <td>-0.793174</td>\n",
       "      <td>-0.026497</td>\n",
       "      <td>-0.773717</td>\n",
       "    </tr>\n",
       "  </tbody>\n",
       "</table>\n",
       "<p>5 rows × 633 columns</p>\n",
       "</div>"
      ],
      "text/plain": [
       "   DEP_DELAY  CARRIER_AA  CARRIER_UA  CARRIER_WN  CARRIER_EV  CARRIER_B6  \\\n",
       "0         -3           1           0           0           0           0   \n",
       "1         39           0           1           0           0           0   \n",
       "2         20           0           0           1           0           0   \n",
       "3         17           0           0           0           1           0   \n",
       "4         20           0           1           0           0           0   \n",
       "\n",
       "   CARRIER_NK  CARRIER_DL  CARRIER_AS  CARRIER_OO  ...  CRS_DEP_TIME_8  \\\n",
       "0           0           0           0           0  ...               0   \n",
       "1           0           0           0           0  ...               0   \n",
       "2           0           0           0           0  ...               0   \n",
       "3           0           0           0           0  ...               0   \n",
       "4           0           0           0           0  ...               0   \n",
       "\n",
       "   CRS_DEP_TIME_23  CRS_DEP_TIME_0  CRS_DEP_TIME_3  CRS_DEP_TIME_2  \\\n",
       "0                0               0               0               0   \n",
       "1                0               0               0               0   \n",
       "2                0               0               0               0   \n",
       "3                0               0               0               0   \n",
       "4                0               0               0               0   \n",
       "\n",
       "   CARRIER_DELAY  WEATHER_DELAY  NAS_DELAY  SECURITY_DELAY  \\\n",
       "0      -0.720957      -0.065652   1.835812       -0.026497   \n",
       "1       2.741342      -0.065652   2.683872       -0.026497   \n",
       "2       1.054581      -0.065652  -0.623562       -0.026497   \n",
       "3      -0.720957      -0.065652   0.394110       -0.026497   \n",
       "4       0.877027      -0.065652  -0.793174       -0.026497   \n",
       "\n",
       "   LATE_AIRCRAFT_DELAY  \n",
       "0            -0.773717  \n",
       "1            -0.773717  \n",
       "2            -0.773717  \n",
       "3             0.056031  \n",
       "4            -0.773717  \n",
       "\n",
       "[5 rows x 633 columns]"
      ]
     },
     "execution_count": 2,
     "metadata": {},
     "output_type": "execute_result"
    }
   ],
   "source": [
    "df_model_sc = pd.read_csv('05_data_model_final_sc.csv')\n",
    "df_model_sc = df_model_sc.drop(['Unnamed: 0'], axis=1)\n",
    "df_model_sc.head()"
   ]
  },
  {
   "cell_type": "code",
   "execution_count": 1,
   "metadata": {},
   "outputs": [],
   "source": [
    "df_delay = pd.read_csv('06_data_delay.csv')\n",
    "df_delay = df_delay.drop(['Unnamed: 0'], axis=1)\n",
    "df_delay.head()"
   ]
  },
  {
   "cell_type": "markdown",
   "metadata": {},
   "source": [
    "## **3. Final Model**"
   ]
  },
  {
   "cell_type": "markdown",
   "metadata": {},
   "source": [
    "### 3.1 Train KNN support to predict delay variables"
   ]
  },
  {
   "cell_type": "code",
   "execution_count": 4,
   "metadata": {},
   "outputs": [
    {
     "data": {
      "text/plain": [
       "GridSearchCV(cv=None, error_score='raise',\n",
       "       estimator=KNeighborsRegressor(algorithm='auto', leaf_size=30, metric='minkowski',\n",
       "          metric_params=None, n_jobs=1, n_neighbors=5, p=2,\n",
       "          weights='uniform'),\n",
       "       fit_params=None, iid=True, n_jobs=1,\n",
       "       param_grid={'n_neighbors': [7]}, pre_dispatch='2*n_jobs',\n",
       "       refit=True, return_train_score=True, scoring=None, verbose=0)"
      ]
     },
     "execution_count": 4,
     "metadata": {},
     "output_type": "execute_result"
    }
   ],
   "source": [
    "from sklearn.neighbors import KNeighborsRegressor\n",
    "features = df_model_sc.drop(['DEP_DELAY', 'CARRIER_DELAY','WEATHER_DELAY','NAS_DELAY','SECURITY_DELAY','LATE_AIRCRAFT_DELAY'], axis=1).values\n",
    "\n",
    "reg_knn = KNeighborsRegressor()\n",
    "params = {'n_neighbors':[7]}\n",
    "\n",
    "target_knn_carrier_delay = df_delay['CARRIER_DELAY'].values\n",
    "X_train_knn_carrier_delay, X_test_knn_carrier_delay, y_train_knn_carrier_delay, y_test_knn_carrier_delay = train_test_split(features, target_knn_carrier_delay, test_size = 0.25)\n",
    "gscv_reg_carrier_delay_knn= GridSearchCV(reg_knn, params)\n",
    "gscv_reg_carrier_delay_knn.fit(X_train_knn_carrier_delay, y_train_knn_carrier_delay)\n",
    "\n",
    "\n",
    "target_knn_NAS_delay = df_delay['NAS_DELAY'].values\n",
    "X_train_knn_NAS_delay, X_test_knn_NAS_delay, y_train_knn_NAS_delay, y_test_knn_NAS_delay = train_test_split(features, target_knn_NAS_delay, test_size = 0.25)\n",
    "gscv_reg_NAS_delay_knn= GridSearchCV(reg_knn, params)\n",
    "gscv_reg_NAS_delay_knn.fit(X_train_knn_NAS_delay, y_train_knn_NAS_delay)\n",
    "\n",
    "\n",
    "target_knn_AIRCRAFT_delay = df_delay['LATE_AIRCRAFT_DELAY'].values\n",
    "X_train_knn_AIRCRAFT_delay, X_test_knn_AIRCRAFT_delay, y_train_knn_AIRCRAFT_delay, y_test_knn_AIRCRAFT_delay = train_test_split(features, target_knn_AIRCRAFT_delay, test_size = 0.25)\n",
    "gscv_reg_AIRCRAFT_delay_knn= GridSearchCV(reg_knn, params)\n",
    "gscv_reg_AIRCRAFT_delay_knn.fit(X_train_knn_AIRCRAFT_delay, y_train_knn_AIRCRAFT_delay)"
   ]
  },
  {
   "cell_type": "markdown",
   "metadata": {},
   "source": [
    "### 3.2 Train Ridge to predict depart delay "
   ]
  },
  {
   "cell_type": "code",
   "execution_count": 5,
   "metadata": {},
   "outputs": [],
   "source": [
    "X_model_rd = df_model_sc.drop(['DEP_DELAY','SECURITY_DELAY', 'WEATHER_DELAY'], axis=1).values\n",
    "y_model_rd = df_model_sc['DEP_DELAY'].values"
   ]
  },
  {
   "cell_type": "code",
   "execution_count": 6,
   "metadata": {},
   "outputs": [
    {
     "data": {
      "text/plain": [
       "((10233, 630), (3412, 630))"
      ]
     },
     "execution_count": 6,
     "metadata": {},
     "output_type": "execute_result"
    }
   ],
   "source": [
    "X_train_rd, X_test_rd, y_train_rd, y_test_rd = train_test_split(X_model_rd, y_model_rd, test_size = 0.25)\n",
    "X_train_rd.shape, X_test_rd.shape"
   ]
  },
  {
   "cell_type": "code",
   "execution_count": 7,
   "metadata": {},
   "outputs": [
    {
     "data": {
      "text/plain": [
       "GridSearchCV(cv=5, error_score='raise',\n",
       "       estimator=Ridge(alpha=1.0, copy_X=True, fit_intercept=True, max_iter=None,\n",
       "   normalize=False, random_state=None, solver='auto', tol=0.001),\n",
       "       fit_params=None, iid=True, n_jobs=1,\n",
       "       param_grid={'alpha': array([1.00000e-05, 3.35982e-05, 1.12884e-04, 3.79269e-04, 1.27427e-03,\n",
       "       4.28133e-03, 1.43845e-02, 4.83293e-02, 1.62378e-01, 5.45559e-01,\n",
       "       1.83298e+00, 6.15848e+00, 2.06914e+01, 6.95193e+01, 2.33572e+02,\n",
       "       7.84760e+02, 2.63665e+03, 8.85867e+03, 2.97635e+04, 1.00000e+05])},\n",
       "       pre_dispatch='2*n_jobs', refit=True, return_train_score=True,\n",
       "       scoring=None, verbose=0)"
      ]
     },
     "execution_count": 7,
     "metadata": {},
     "output_type": "execute_result"
    }
   ],
   "source": [
    "from sklearn.linear_model import Ridge\n",
    "reg_ridge =  Ridge()\n",
    "params = {'alpha':np.logspace(-5,5,20)}\n",
    "#params = {'alpha':69.51927961775606}\n",
    "gscv_reg_ridge=GridSearchCV(reg_ridge,params, cv=5)\n",
    "gscv_reg_ridge.fit(X_train_rd, y_train_rd)"
   ]
  },
  {
   "cell_type": "code",
   "execution_count": 8,
   "metadata": {},
   "outputs": [
    {
     "name": "stdout",
     "output_type": "stream",
     "text": [
      "{'alpha': 69.51927961775606}\n",
      "0.8433555017333205\n"
     ]
    }
   ],
   "source": [
    "print(gscv_reg_ridge.best_params_)\n",
    "print(gscv_reg_ridge.best_score_)"
   ]
  },
  {
   "cell_type": "code",
   "execution_count": 9,
   "metadata": {},
   "outputs": [],
   "source": [
    "y_pred_rd = gscv_reg_ridge.predict(X_test_rd)"
   ]
  },
  {
   "cell_type": "code",
   "execution_count": 10,
   "metadata": {},
   "outputs": [],
   "source": [
    "r2_rr = r2_score(y_test_rd, y_pred_rd)\n",
    "rmse_rr = np.sqrt(mean_squared_error(y_test_rd, y_pred_rd))"
   ]
  },
  {
   "cell_type": "code",
   "execution_count": 11,
   "metadata": {},
   "outputs": [
    {
     "name": "stdout",
     "output_type": "stream",
     "text": [
      "R_squared_rr: 0.8423917584053462\n",
      "RMSE_rr : 9.781932233313192\n"
     ]
    }
   ],
   "source": [
    "print(\"R_squared_rr: {}\".format(r2_rr))\n",
    "print(\"RMSE_rr : {}\".format(rmse_rr))"
   ]
  },
  {
   "cell_type": "markdown",
   "metadata": {},
   "source": [
    "### 3.3 Build API inputs"
   ]
  },
  {
   "cell_type": "code",
   "execution_count": 12,
   "metadata": {},
   "outputs": [],
   "source": [
    "df_input_API = df_model_sc.drop(['CARRIER_DELAY', 'WEATHER_DELAY','NAS_DELAY','SECURITY_DELAY', 'LATE_AIRCRAFT_DELAY','DEP_DELAY'],axis=1)\n",
    "input_API = dict(zip(df_input_API.columns,range(df_input_API.shape[1])))"
   ]
  },
  {
   "cell_type": "markdown",
   "metadata": {},
   "source": [
    "### 3.4 API inputs reset"
   ]
  },
  {
   "cell_type": "code",
   "execution_count": 13,
   "metadata": {},
   "outputs": [],
   "source": [
    "input_API_0 = np.zeros(len(input_API))\n",
    "#input_API_0"
   ]
  },
  {
   "cell_type": "markdown",
   "metadata": {},
   "source": [
    "### 3.5 API inputs real test"
   ]
  },
  {
   "cell_type": "code",
   "execution_count": 14,
   "metadata": {},
   "outputs": [],
   "source": [
    "input_API_0[input_API['MONTH_'+str(2)]] = 1\n",
    "input_API_0[input_API['DAY_OF_MONTH_'+str(15)]] = 1\n",
    "input_API_0[input_API['DAY_OF_WEEK_'+str(4)]] = 1\n",
    "input_API_0[input_API['CARRIER_'+str('WN')]] = 1\n",
    "input_API_0[input_API['ORIGIN_CITY_NAME_'+str('Atlanta, GA')]] = 1\n",
    "input_API_0[input_API['DEST_CITY_NAME_'+str('Boston, MA')]] = 1\n",
    "input_API_0[input_API['CRS_DEP_TIME_'+str(10)]] = 1"
   ]
  },
  {
   "cell_type": "code",
   "execution_count": 15,
   "metadata": {},
   "outputs": [],
   "source": [
    "input_API_on = input_API_0\n",
    "#input_API_on"
   ]
  },
  {
   "cell_type": "code",
   "execution_count": 16,
   "metadata": {},
   "outputs": [
    {
     "data": {
      "text/plain": [
       "(627,)"
      ]
     },
     "execution_count": 16,
     "metadata": {},
     "output_type": "execute_result"
    }
   ],
   "source": [
    "input_API_on.shape"
   ]
  },
  {
   "cell_type": "markdown",
   "metadata": {},
   "source": [
    "### 3.6 Departure delay prediction"
   ]
  },
  {
   "cell_type": "code",
   "execution_count": 17,
   "metadata": {},
   "outputs": [
    {
     "data": {
      "text/plain": [
       "array([2.84380609])"
      ]
     },
     "execution_count": 17,
     "metadata": {},
     "output_type": "execute_result"
    }
   ],
   "source": [
    "\n",
    "sc = StandardScaler()\n",
    "delay_var_output = []\n",
    "input_API_on_1 = input_API_on.reshape(-1, 1)\n",
    "\n",
    "y_carrier_delay_pred_knn = gscv_reg_carrier_delay_knn.predict(input_API_on_1.T) #.append\n",
    "delay_var_output.append(y_carrier_delay_pred_knn)\n",
    "\n",
    "\n",
    "y_NAS_delay_pred_knn = gscv_reg_NAS_delay_knn.predict(input_API_on_1.T) #.append\n",
    "delay_var_output.append(y_NAS_delay_pred_knn)\n",
    "\n",
    "\n",
    "y_AIRCRAFT_delay_pred_knn = gscv_reg_AIRCRAFT_delay_knn.predict(input_API_on_1.T) #.append\n",
    "delay_var_output.append(y_AIRCRAFT_delay_pred_knn)\n",
    "\n",
    "\n",
    "delay_var_output = sc.fit_transform(delay_var_output)\n",
    "    \n",
    "def oneDArray(x):\n",
    "    return list(itertools.chain(*x))\n",
    "delay_var_output = oneDArray(delay_var_output)\n",
    "\n",
    "input_Final = np.concatenate((input_API_on,delay_var_output))\n",
    "input_Final = input_Final.reshape(-1,1)\n",
    "dep_delay_pred = gscv_reg_ridge.predict(input_Final.T)\n",
    "dep_delay_pred"
   ]
  },
  {
   "cell_type": "markdown",
   "metadata": {},
   "source": [
    "### 3.7 Save API information"
   ]
  },
  {
   "cell_type": "code",
   "execution_count": 18,
   "metadata": {},
   "outputs": [],
   "source": [
    "# Python Module used to convert a python object into a character stream"
   ]
  },
  {
   "cell_type": "code",
   "execution_count": 20,
   "metadata": {},
   "outputs": [
    {
     "data": {
      "text/plain": [
       "['gscv_reg_carrier_delay_knn.joblib']"
      ]
     },
     "execution_count": 20,
     "metadata": {},
     "output_type": "execute_result"
    }
   ],
   "source": [
    "#with open('gscv_reg_carrier_delay_knn.pkl', 'wb') as f:\n",
    "    #pickle.dump(gscv_reg_carrier_delay_knn, f)\n",
    "    \n",
    "joblib.dump(gscv_reg_carrier_delay_knn, 'gscv_reg_carrier_delay_knn.joblib', compress=1)\n",
    "\n",
    "#f=gzip.open('gscv_reg_carrier_delay_knn.pkl', 'wb') \n",
    "#pickle.dump(gscv_reg_carrier_delay_knn, f)"
   ]
  },
  {
   "cell_type": "code",
   "execution_count": 21,
   "metadata": {},
   "outputs": [
    {
     "data": {
      "text/plain": [
       "['gscv_reg_NAS_delay_knn.joblib']"
      ]
     },
     "execution_count": 21,
     "metadata": {},
     "output_type": "execute_result"
    }
   ],
   "source": [
    "#with open('gscv_reg_NAS_delay_knn.pkl', 'wb') as f:\n",
    "    #pickle.dump(gscv_reg_NAS_delay_knn, f) \n",
    "    \n",
    "joblib.dump(gscv_reg_NAS_delay_knn, 'gscv_reg_NAS_delay_knn.joblib', compress=1)\n",
    "\n",
    "#f=gzip.open('gscv_reg_NAS_delay_knn.pkl', 'wb') \n",
    "#pickle.dump(gscv_reg_NAS_delay_knn, f)"
   ]
  },
  {
   "cell_type": "code",
   "execution_count": 22,
   "metadata": {},
   "outputs": [
    {
     "data": {
      "text/plain": [
       "['gscv_reg_AIRCRAFT_delay_knn.joblib']"
      ]
     },
     "execution_count": 22,
     "metadata": {},
     "output_type": "execute_result"
    }
   ],
   "source": [
    "#with open('gscv_reg_AIRCRAFT_delay_knn.pkl', 'wb') as f:\n",
    "    #cPickle.dump(gscv_reg_AIRCRAFT_delay_knn, f)\n",
    "    \n",
    "joblib.dump(gscv_reg_AIRCRAFT_delay_knn, 'gscv_reg_AIRCRAFT_delay_knn.joblib', compress=1)\n",
    "\n",
    "#f=gzip.open('gscv_reg_AIRCRAFT_delay_knn.pkl', 'wb') \n",
    "#pickle.dump(gscv_reg_AIRCRAFT_delay_knn, f)"
   ]
  },
  {
   "cell_type": "code",
   "execution_count": 23,
   "metadata": {},
   "outputs": [
    {
     "data": {
      "text/plain": [
       "['gscv_reg_ridge.joblib']"
      ]
     },
     "execution_count": 23,
     "metadata": {},
     "output_type": "execute_result"
    }
   ],
   "source": [
    "#with open('gscv_reg_ridge.pkl', 'wb') as f:\n",
    "    #pickle.dump(gscv_reg_ridge, f)\n",
    "    \n",
    "joblib.dump(gscv_reg_ridge, 'gscv_reg_ridge.joblib', compress=1)\n",
    "\n",
    "#f=gzip.open('gscv_reg_ridge.pkl', 'wb') \n",
    "#pickle.dump(gscv_reg_ridge, f)"
   ]
  },
  {
   "cell_type": "code",
   "execution_count": 24,
   "metadata": {},
   "outputs": [
    {
     "data": {
      "text/plain": [
       "['input_API.joblib']"
      ]
     },
     "execution_count": 24,
     "metadata": {},
     "output_type": "execute_result"
    }
   ],
   "source": [
    "#with open('input_API.pkl', 'wb') as f:\n",
    "    #pickle.dump(input_API, f)\n",
    "    \n",
    "joblib.dump(input_API, 'input_API.joblib', compress=1)\n",
    "\n",
    "#f=gzip.open('input_API.pkl', 'wb') \n",
    "#pickle.dump(input_API, f)\n"
   ]
  },
  {
   "cell_type": "code",
   "execution_count": 25,
   "metadata": {},
   "outputs": [],
   "source": [
    "#API_info = gzip.open('input_API.pkl', 'rb')\n",
    "#input_API = pickle.load(API_info)\n",
    "#input_API_0 = np.zeros(len(input_API))\n",
    "\n",
    "API_info = open('input_API.joblib', 'rb')\n",
    "input_API = joblib.load(API_info)\n",
    "input_API_0 = np.zeros(len(input_API))"
   ]
  },
  {
   "cell_type": "code",
   "execution_count": 26,
   "metadata": {},
   "outputs": [
    {
     "data": {
      "text/plain": [
       "array([0., 0., 0., 0., 0., 0., 0., 0., 0., 0., 0., 0., 0., 0., 0., 0., 0.,\n",
       "       0., 0., 0., 0., 0., 0., 0., 0., 0., 0., 0., 0., 0., 0., 0., 0., 0.,\n",
       "       0., 0., 0., 0., 0., 0., 0., 0., 0., 0., 0., 0., 0., 0., 0., 0., 0.,\n",
       "       0., 0., 0., 0., 0., 0., 0., 0., 0., 0., 0., 0., 0., 0., 0., 0., 0.,\n",
       "       0., 0., 0., 0., 0., 0., 0., 0., 0., 0., 0., 0., 0., 0., 0., 0., 0.,\n",
       "       0., 0., 0., 0., 0., 0., 0., 0., 0., 0., 0., 0., 0., 0., 0., 0., 0.,\n",
       "       0., 0., 0., 0., 0., 0., 0., 0., 0., 0., 0., 0., 0., 0., 0., 0., 0.,\n",
       "       0., 0., 0., 0., 0., 0., 0., 0., 0., 0., 0., 0., 0., 0., 0., 0., 0.,\n",
       "       0., 0., 0., 0., 0., 0., 0., 0., 0., 0., 0., 0., 0., 0., 0., 0., 0.,\n",
       "       0., 0., 0., 0., 0., 0., 0., 0., 0., 0., 0., 0., 0., 0., 0., 0., 0.,\n",
       "       0., 0., 0., 0., 0., 0., 0., 0., 0., 0., 0., 0., 0., 0., 0., 0., 0.,\n",
       "       0., 0., 0., 0., 0., 0., 0., 0., 0., 0., 0., 0., 0., 0., 0., 0., 0.,\n",
       "       0., 0., 0., 0., 0., 0., 0., 0., 0., 0., 0., 0., 0., 0., 0., 0., 0.,\n",
       "       0., 0., 0., 0., 0., 0., 0., 0., 0., 0., 0., 0., 0., 0., 0., 0., 0.,\n",
       "       0., 0., 0., 0., 0., 0., 0., 0., 0., 0., 0., 0., 0., 0., 0., 0., 0.,\n",
       "       0., 0., 0., 0., 0., 0., 0., 0., 0., 0., 0., 0., 0., 0., 0., 0., 0.,\n",
       "       0., 0., 0., 0., 0., 0., 0., 0., 0., 0., 0., 0., 0., 0., 0., 0., 0.,\n",
       "       0., 0., 0., 0., 0., 0., 0., 0., 0., 0., 0., 0., 0., 0., 0., 0., 0.,\n",
       "       0., 0., 0., 0., 0., 0., 0., 0., 0., 0., 0., 0., 0., 0., 0., 0., 0.,\n",
       "       0., 0., 0., 0., 0., 0., 0., 0., 0., 0., 0., 0., 0., 0., 0., 0., 0.,\n",
       "       0., 0., 0., 0., 0., 0., 0., 0., 0., 0., 0., 0., 0., 0., 0., 0., 0.,\n",
       "       0., 0., 0., 0., 0., 0., 0., 0., 0., 0., 0., 0., 0., 0., 0., 0., 0.,\n",
       "       0., 0., 0., 0., 0., 0., 0., 0., 0., 0., 0., 0., 0., 0., 0., 0., 0.,\n",
       "       0., 0., 0., 0., 0., 0., 0., 0., 0., 0., 0., 0., 0., 0., 0., 0., 0.,\n",
       "       0., 0., 0., 0., 0., 0., 0., 0., 0., 0., 0., 0., 0., 0., 0., 0., 0.,\n",
       "       0., 0., 0., 0., 0., 0., 0., 0., 0., 0., 0., 0., 0., 0., 0., 0., 0.,\n",
       "       0., 0., 0., 0., 0., 0., 0., 0., 0., 0., 0., 0., 0., 0., 0., 0., 0.,\n",
       "       0., 0., 0., 0., 0., 0., 0., 0., 0., 0., 0., 0., 0., 0., 0., 0., 0.,\n",
       "       0., 0., 0., 0., 0., 0., 0., 0., 0., 0., 0., 0., 0., 0., 0., 0., 0.,\n",
       "       0., 0., 0., 0., 0., 0., 0., 0., 0., 0., 0., 0., 0., 0., 0., 0., 0.,\n",
       "       0., 0., 0., 0., 0., 0., 0., 0., 0., 0., 0., 0., 0., 0., 0., 0., 0.,\n",
       "       0., 0., 0., 0., 0., 0., 0., 0., 0., 0., 0., 0., 0., 0., 0., 0., 0.,\n",
       "       0., 0., 0., 0., 0., 0., 0., 0., 0., 0., 0., 0., 0., 0., 0., 0., 0.,\n",
       "       0., 0., 0., 0., 0., 0., 0., 0., 0., 0., 0., 0., 0., 0., 0., 0., 0.,\n",
       "       0., 0., 0., 0., 0., 0., 0., 0., 0., 0., 0., 0., 0., 0., 0., 0., 0.,\n",
       "       0., 0., 0., 0., 0., 0., 0., 0., 0., 0., 0., 0., 0., 0., 0., 0., 0.,\n",
       "       0., 0., 0., 0., 0., 0., 0., 0., 0., 0., 0., 0., 0., 0., 0.])"
      ]
     },
     "execution_count": 26,
     "metadata": {},
     "output_type": "execute_result"
    }
   ],
   "source": [
    "input_API_0"
   ]
  },
  {
   "cell_type": "code",
   "execution_count": null,
   "metadata": {},
   "outputs": [],
   "source": []
  }
 ],
 "metadata": {
  "kernelspec": {
   "display_name": "Python 3",
   "language": "python",
   "name": "python3"
  },
  "language_info": {
   "codemirror_mode": {
    "name": "ipython",
    "version": 3
   },
   "file_extension": ".py",
   "mimetype": "text/x-python",
   "name": "python",
   "nbconvert_exporter": "python",
   "pygments_lexer": "ipython3",
   "version": "3.6.10"
  }
 },
 "nbformat": 4,
 "nbformat_minor": 4
}
