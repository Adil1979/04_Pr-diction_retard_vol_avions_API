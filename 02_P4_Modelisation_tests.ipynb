{
 "cells": [
  {
   "cell_type": "markdown",
   "metadata": {
    "colab_type": "text",
    "id": "-90_SZjGB1yO"
   },
   "source": [
    "# Projet 4 : **Anticiper le retard de vols des avions**"
   ]
  },
  {
   "cell_type": "markdown",
   "metadata": {
    "colab_type": "text",
    "id": "Cedj28RET1EQ"
   },
   "source": [
    "## **1.Libraries**"
   ]
  },
  {
   "cell_type": "code",
   "execution_count": 1,
   "metadata": {
    "colab": {
     "base_uri": "https://localhost:8080/",
     "height": 713
    },
    "colab_type": "code",
    "id": "xoilhMFQBrLS",
    "outputId": "5928bbc5-8800-430c-da9d-ef8fcc71e87e"
   },
   "outputs": [],
   "source": [
    "#!pip install feature_engine"
   ]
  },
  {
   "cell_type": "code",
   "execution_count": 1,
   "metadata": {
    "colab": {
     "base_uri": "https://localhost:8080/",
     "height": 72
    },
    "colab_type": "code",
    "id": "L1zWN-iOMBpC",
    "outputId": "1f1d7772-8872-4f60-dc74-d5d0bf1dd216"
   },
   "outputs": [],
   "source": [
    "import numpy as np\n",
    "import pandas as pd\n",
    "import matplotlib.pyplot as plt\n",
    "%matplotlib inline\n",
    "from matplotlib.lines import Line2D\n",
    "import seaborn as sns\n",
    "from scipy import stats\n",
    "from sklearn import preprocessing\n",
    "from os import listdir\n",
    "import glob\n",
    "import missingno as msno\n",
    "from feature_engine.categorical_encoders import OneHotCategoricalEncoder\n"
   ]
  },
  {
   "cell_type": "markdown",
   "metadata": {
    "colab_type": "text",
    "id": "lEOl3gv0VdrW"
   },
   "source": [
    "## **2.Data Set**"
   ]
  },
  {
   "cell_type": "code",
   "execution_count": 2,
   "metadata": {
    "colab": {
     "base_uri": "https://localhost:8080/",
     "height": 251
    },
    "colab_type": "code",
    "id": "XVC-2vetw57B",
    "outputId": "87ccbfae-a59b-4541-fe13-8e3dd0455134"
   },
   "outputs": [
    {
     "data": {
      "text/html": [
       "<div>\n",
       "<style scoped>\n",
       "    .dataframe tbody tr th:only-of-type {\n",
       "        vertical-align: middle;\n",
       "    }\n",
       "\n",
       "    .dataframe tbody tr th {\n",
       "        vertical-align: top;\n",
       "    }\n",
       "\n",
       "    .dataframe thead th {\n",
       "        text-align: right;\n",
       "    }\n",
       "</style>\n",
       "<table border=\"1\" class=\"dataframe\">\n",
       "  <thead>\n",
       "    <tr style=\"text-align: right;\">\n",
       "      <th></th>\n",
       "      <th>CARRIER_DELAY</th>\n",
       "      <th>WEATHER_DELAY</th>\n",
       "      <th>NAS_DELAY</th>\n",
       "      <th>SECURITY_DELAY</th>\n",
       "      <th>LATE_AIRCRAFT_DELAY</th>\n",
       "      <th>DEP_DELAY</th>\n",
       "      <th>CARRIER_AA</th>\n",
       "      <th>CARRIER_UA</th>\n",
       "      <th>CARRIER_WN</th>\n",
       "      <th>CARRIER_EV</th>\n",
       "      <th>...</th>\n",
       "      <th>CRS_DEP_TIME_7</th>\n",
       "      <th>CRS_DEP_TIME_9</th>\n",
       "      <th>CRS_DEP_TIME_13</th>\n",
       "      <th>CRS_DEP_TIME_6</th>\n",
       "      <th>CRS_DEP_TIME_1</th>\n",
       "      <th>CRS_DEP_TIME_8</th>\n",
       "      <th>CRS_DEP_TIME_23</th>\n",
       "      <th>CRS_DEP_TIME_0</th>\n",
       "      <th>CRS_DEP_TIME_3</th>\n",
       "      <th>CRS_DEP_TIME_2</th>\n",
       "    </tr>\n",
       "  </thead>\n",
       "  <tbody>\n",
       "    <tr>\n",
       "      <th>0</th>\n",
       "      <td>0</td>\n",
       "      <td>0</td>\n",
       "      <td>31</td>\n",
       "      <td>0</td>\n",
       "      <td>0</td>\n",
       "      <td>-3</td>\n",
       "      <td>1</td>\n",
       "      <td>0</td>\n",
       "      <td>0</td>\n",
       "      <td>0</td>\n",
       "      <td>...</td>\n",
       "      <td>0</td>\n",
       "      <td>0</td>\n",
       "      <td>0</td>\n",
       "      <td>0</td>\n",
       "      <td>0</td>\n",
       "      <td>0</td>\n",
       "      <td>0</td>\n",
       "      <td>0</td>\n",
       "      <td>0</td>\n",
       "      <td>0</td>\n",
       "    </tr>\n",
       "    <tr>\n",
       "      <th>1</th>\n",
       "      <td>39</td>\n",
       "      <td>0</td>\n",
       "      <td>41</td>\n",
       "      <td>0</td>\n",
       "      <td>0</td>\n",
       "      <td>39</td>\n",
       "      <td>0</td>\n",
       "      <td>1</td>\n",
       "      <td>0</td>\n",
       "      <td>0</td>\n",
       "      <td>...</td>\n",
       "      <td>0</td>\n",
       "      <td>0</td>\n",
       "      <td>0</td>\n",
       "      <td>0</td>\n",
       "      <td>0</td>\n",
       "      <td>0</td>\n",
       "      <td>0</td>\n",
       "      <td>0</td>\n",
       "      <td>0</td>\n",
       "      <td>0</td>\n",
       "    </tr>\n",
       "    <tr>\n",
       "      <th>2</th>\n",
       "      <td>20</td>\n",
       "      <td>0</td>\n",
       "      <td>2</td>\n",
       "      <td>0</td>\n",
       "      <td>0</td>\n",
       "      <td>20</td>\n",
       "      <td>0</td>\n",
       "      <td>0</td>\n",
       "      <td>1</td>\n",
       "      <td>0</td>\n",
       "      <td>...</td>\n",
       "      <td>0</td>\n",
       "      <td>0</td>\n",
       "      <td>0</td>\n",
       "      <td>0</td>\n",
       "      <td>0</td>\n",
       "      <td>0</td>\n",
       "      <td>0</td>\n",
       "      <td>0</td>\n",
       "      <td>0</td>\n",
       "      <td>0</td>\n",
       "    </tr>\n",
       "    <tr>\n",
       "      <th>3</th>\n",
       "      <td>0</td>\n",
       "      <td>0</td>\n",
       "      <td>14</td>\n",
       "      <td>0</td>\n",
       "      <td>17</td>\n",
       "      <td>17</td>\n",
       "      <td>0</td>\n",
       "      <td>0</td>\n",
       "      <td>0</td>\n",
       "      <td>1</td>\n",
       "      <td>...</td>\n",
       "      <td>0</td>\n",
       "      <td>0</td>\n",
       "      <td>0</td>\n",
       "      <td>0</td>\n",
       "      <td>0</td>\n",
       "      <td>0</td>\n",
       "      <td>0</td>\n",
       "      <td>0</td>\n",
       "      <td>0</td>\n",
       "      <td>0</td>\n",
       "    </tr>\n",
       "    <tr>\n",
       "      <th>4</th>\n",
       "      <td>18</td>\n",
       "      <td>0</td>\n",
       "      <td>0</td>\n",
       "      <td>0</td>\n",
       "      <td>0</td>\n",
       "      <td>20</td>\n",
       "      <td>0</td>\n",
       "      <td>1</td>\n",
       "      <td>0</td>\n",
       "      <td>0</td>\n",
       "      <td>...</td>\n",
       "      <td>0</td>\n",
       "      <td>0</td>\n",
       "      <td>0</td>\n",
       "      <td>0</td>\n",
       "      <td>0</td>\n",
       "      <td>0</td>\n",
       "      <td>0</td>\n",
       "      <td>0</td>\n",
       "      <td>0</td>\n",
       "      <td>0</td>\n",
       "    </tr>\n",
       "  </tbody>\n",
       "</table>\n",
       "<p>5 rows × 633 columns</p>\n",
       "</div>"
      ],
      "text/plain": [
       "   CARRIER_DELAY  WEATHER_DELAY  NAS_DELAY  SECURITY_DELAY  \\\n",
       "0              0              0         31               0   \n",
       "1             39              0         41               0   \n",
       "2             20              0          2               0   \n",
       "3              0              0         14               0   \n",
       "4             18              0          0               0   \n",
       "\n",
       "   LATE_AIRCRAFT_DELAY  DEP_DELAY  CARRIER_AA  CARRIER_UA  CARRIER_WN  \\\n",
       "0                    0         -3           1           0           0   \n",
       "1                    0         39           0           1           0   \n",
       "2                    0         20           0           0           1   \n",
       "3                   17         17           0           0           0   \n",
       "4                    0         20           0           1           0   \n",
       "\n",
       "   CARRIER_EV  ...  CRS_DEP_TIME_7  CRS_DEP_TIME_9  CRS_DEP_TIME_13  \\\n",
       "0           0  ...               0               0                0   \n",
       "1           0  ...               0               0                0   \n",
       "2           0  ...               0               0                0   \n",
       "3           1  ...               0               0                0   \n",
       "4           0  ...               0               0                0   \n",
       "\n",
       "   CRS_DEP_TIME_6  CRS_DEP_TIME_1  CRS_DEP_TIME_8  CRS_DEP_TIME_23  \\\n",
       "0               0               0               0                0   \n",
       "1               0               0               0                0   \n",
       "2               0               0               0                0   \n",
       "3               0               0               0                0   \n",
       "4               0               0               0                0   \n",
       "\n",
       "   CRS_DEP_TIME_0  CRS_DEP_TIME_3  CRS_DEP_TIME_2  \n",
       "0               0               0               0  \n",
       "1               0               0               0  \n",
       "2               0               0               0  \n",
       "3               0               0               0  \n",
       "4               0               0               0  \n",
       "\n",
       "[5 rows x 633 columns]"
      ]
     },
     "execution_count": 2,
     "metadata": {},
     "output_type": "execute_result"
    }
   ],
   "source": [
    "df_model = pd.read_csv('04_data_model_final.csv')\n",
    "df_model = df_model.drop(['Unnamed: 0'], axis=1)\n",
    "df_model.head()"
   ]
  },
  {
   "cell_type": "code",
   "execution_count": 3,
   "metadata": {
    "colab": {
     "base_uri": "https://localhost:8080/",
     "height": 35
    },
    "colab_type": "code",
    "id": "BJGubsmt7bG4",
    "outputId": "0ae44919-88e8-4dd6-acce-d357aa6973cd"
   },
   "outputs": [
    {
     "data": {
      "text/plain": [
       "(13645, 633)"
      ]
     },
     "execution_count": 3,
     "metadata": {},
     "output_type": "execute_result"
    }
   ],
   "source": [
    "df_model.shape"
   ]
  },
  {
   "cell_type": "markdown",
   "metadata": {
    "colab_type": "text",
    "id": "ZO7l24E0V-vw"
   },
   "source": [
    "## **3.Flights Delay Models**\n"
   ]
  },
  {
   "cell_type": "markdown",
   "metadata": {
    "colab_type": "text",
    "id": "jnmUnhkfdCyf"
   },
   "source": [
    "### **3.0 Modelisation Libraries**"
   ]
  },
  {
   "cell_type": "code",
   "execution_count": 4,
   "metadata": {
    "colab": {},
    "colab_type": "code",
    "id": "KxYHrhqDeGGN"
   },
   "outputs": [],
   "source": [
    "from sklearn.model_selection import train_test_split\n",
    "from sklearn.preprocessing import StandardScaler\n",
    "from sklearn.preprocessing import scale\n",
    "from sklearn.model_selection import cross_val_score, KFold\n",
    "from sklearn.metrics import r2_score, mean_squared_error\n",
    "from sklearn.linear_model import LinearRegression\n",
    "from sklearn.model_selection import GridSearchCV"
   ]
  },
  {
   "cell_type": "code",
   "execution_count": 5,
   "metadata": {},
   "outputs": [
    {
     "data": {
      "text/html": [
       "<div>\n",
       "<style scoped>\n",
       "    .dataframe tbody tr th:only-of-type {\n",
       "        vertical-align: middle;\n",
       "    }\n",
       "\n",
       "    .dataframe tbody tr th {\n",
       "        vertical-align: top;\n",
       "    }\n",
       "\n",
       "    .dataframe thead th {\n",
       "        text-align: right;\n",
       "    }\n",
       "</style>\n",
       "<table border=\"1\" class=\"dataframe\">\n",
       "  <thead>\n",
       "    <tr style=\"text-align: right;\">\n",
       "      <th></th>\n",
       "      <th>CARRIER_DELAY</th>\n",
       "      <th>WEATHER_DELAY</th>\n",
       "      <th>NAS_DELAY</th>\n",
       "      <th>SECURITY_DELAY</th>\n",
       "      <th>LATE_AIRCRAFT_DELAY</th>\n",
       "      <th>DEP_DELAY</th>\n",
       "      <th>CARRIER_AA</th>\n",
       "      <th>CARRIER_UA</th>\n",
       "      <th>CARRIER_WN</th>\n",
       "      <th>CARRIER_EV</th>\n",
       "      <th>...</th>\n",
       "      <th>CRS_DEP_TIME_7</th>\n",
       "      <th>CRS_DEP_TIME_9</th>\n",
       "      <th>CRS_DEP_TIME_13</th>\n",
       "      <th>CRS_DEP_TIME_6</th>\n",
       "      <th>CRS_DEP_TIME_1</th>\n",
       "      <th>CRS_DEP_TIME_8</th>\n",
       "      <th>CRS_DEP_TIME_23</th>\n",
       "      <th>CRS_DEP_TIME_0</th>\n",
       "      <th>CRS_DEP_TIME_3</th>\n",
       "      <th>CRS_DEP_TIME_2</th>\n",
       "    </tr>\n",
       "  </thead>\n",
       "  <tbody>\n",
       "    <tr>\n",
       "      <th>0</th>\n",
       "      <td>-0.720957</td>\n",
       "      <td>-0.065652</td>\n",
       "      <td>1.835812</td>\n",
       "      <td>-0.026497</td>\n",
       "      <td>-0.773717</td>\n",
       "      <td>-3</td>\n",
       "      <td>1</td>\n",
       "      <td>0</td>\n",
       "      <td>0</td>\n",
       "      <td>0</td>\n",
       "      <td>...</td>\n",
       "      <td>0</td>\n",
       "      <td>0</td>\n",
       "      <td>0</td>\n",
       "      <td>0</td>\n",
       "      <td>0</td>\n",
       "      <td>0</td>\n",
       "      <td>0</td>\n",
       "      <td>0</td>\n",
       "      <td>0</td>\n",
       "      <td>0</td>\n",
       "    </tr>\n",
       "    <tr>\n",
       "      <th>1</th>\n",
       "      <td>2.741342</td>\n",
       "      <td>-0.065652</td>\n",
       "      <td>2.683872</td>\n",
       "      <td>-0.026497</td>\n",
       "      <td>-0.773717</td>\n",
       "      <td>39</td>\n",
       "      <td>0</td>\n",
       "      <td>1</td>\n",
       "      <td>0</td>\n",
       "      <td>0</td>\n",
       "      <td>...</td>\n",
       "      <td>0</td>\n",
       "      <td>0</td>\n",
       "      <td>0</td>\n",
       "      <td>0</td>\n",
       "      <td>0</td>\n",
       "      <td>0</td>\n",
       "      <td>0</td>\n",
       "      <td>0</td>\n",
       "      <td>0</td>\n",
       "      <td>0</td>\n",
       "    </tr>\n",
       "    <tr>\n",
       "      <th>2</th>\n",
       "      <td>1.054581</td>\n",
       "      <td>-0.065652</td>\n",
       "      <td>-0.623562</td>\n",
       "      <td>-0.026497</td>\n",
       "      <td>-0.773717</td>\n",
       "      <td>20</td>\n",
       "      <td>0</td>\n",
       "      <td>0</td>\n",
       "      <td>1</td>\n",
       "      <td>0</td>\n",
       "      <td>...</td>\n",
       "      <td>0</td>\n",
       "      <td>0</td>\n",
       "      <td>0</td>\n",
       "      <td>0</td>\n",
       "      <td>0</td>\n",
       "      <td>0</td>\n",
       "      <td>0</td>\n",
       "      <td>0</td>\n",
       "      <td>0</td>\n",
       "      <td>0</td>\n",
       "    </tr>\n",
       "    <tr>\n",
       "      <th>3</th>\n",
       "      <td>-0.720957</td>\n",
       "      <td>-0.065652</td>\n",
       "      <td>0.394110</td>\n",
       "      <td>-0.026497</td>\n",
       "      <td>0.056031</td>\n",
       "      <td>17</td>\n",
       "      <td>0</td>\n",
       "      <td>0</td>\n",
       "      <td>0</td>\n",
       "      <td>1</td>\n",
       "      <td>...</td>\n",
       "      <td>0</td>\n",
       "      <td>0</td>\n",
       "      <td>0</td>\n",
       "      <td>0</td>\n",
       "      <td>0</td>\n",
       "      <td>0</td>\n",
       "      <td>0</td>\n",
       "      <td>0</td>\n",
       "      <td>0</td>\n",
       "      <td>0</td>\n",
       "    </tr>\n",
       "    <tr>\n",
       "      <th>4</th>\n",
       "      <td>0.877027</td>\n",
       "      <td>-0.065652</td>\n",
       "      <td>-0.793174</td>\n",
       "      <td>-0.026497</td>\n",
       "      <td>-0.773717</td>\n",
       "      <td>20</td>\n",
       "      <td>0</td>\n",
       "      <td>1</td>\n",
       "      <td>0</td>\n",
       "      <td>0</td>\n",
       "      <td>...</td>\n",
       "      <td>0</td>\n",
       "      <td>0</td>\n",
       "      <td>0</td>\n",
       "      <td>0</td>\n",
       "      <td>0</td>\n",
       "      <td>0</td>\n",
       "      <td>0</td>\n",
       "      <td>0</td>\n",
       "      <td>0</td>\n",
       "      <td>0</td>\n",
       "    </tr>\n",
       "  </tbody>\n",
       "</table>\n",
       "<p>5 rows × 633 columns</p>\n",
       "</div>"
      ],
      "text/plain": [
       "   CARRIER_DELAY  WEATHER_DELAY  NAS_DELAY  SECURITY_DELAY  \\\n",
       "0      -0.720957      -0.065652   1.835812       -0.026497   \n",
       "1       2.741342      -0.065652   2.683872       -0.026497   \n",
       "2       1.054581      -0.065652  -0.623562       -0.026497   \n",
       "3      -0.720957      -0.065652   0.394110       -0.026497   \n",
       "4       0.877027      -0.065652  -0.793174       -0.026497   \n",
       "\n",
       "   LATE_AIRCRAFT_DELAY  DEP_DELAY  CARRIER_AA  CARRIER_UA  CARRIER_WN  \\\n",
       "0            -0.773717         -3           1           0           0   \n",
       "1            -0.773717         39           0           1           0   \n",
       "2            -0.773717         20           0           0           1   \n",
       "3             0.056031         17           0           0           0   \n",
       "4            -0.773717         20           0           1           0   \n",
       "\n",
       "   CARRIER_EV  ...  CRS_DEP_TIME_7  CRS_DEP_TIME_9  CRS_DEP_TIME_13  \\\n",
       "0           0  ...               0               0                0   \n",
       "1           0  ...               0               0                0   \n",
       "2           0  ...               0               0                0   \n",
       "3           1  ...               0               0                0   \n",
       "4           0  ...               0               0                0   \n",
       "\n",
       "   CRS_DEP_TIME_6  CRS_DEP_TIME_1  CRS_DEP_TIME_8  CRS_DEP_TIME_23  \\\n",
       "0               0               0               0                0   \n",
       "1               0               0               0                0   \n",
       "2               0               0               0                0   \n",
       "3               0               0               0                0   \n",
       "4               0               0               0                0   \n",
       "\n",
       "   CRS_DEP_TIME_0  CRS_DEP_TIME_3  CRS_DEP_TIME_2  \n",
       "0               0               0               0  \n",
       "1               0               0               0  \n",
       "2               0               0               0  \n",
       "3               0               0               0  \n",
       "4               0               0               0  \n",
       "\n",
       "[5 rows x 633 columns]"
      ]
     },
     "execution_count": 5,
     "metadata": {},
     "output_type": "execute_result"
    }
   ],
   "source": [
    "sc = StandardScaler()\n",
    "df_num_sc = sc.fit_transform(df_model.loc[:, ['CARRIER_DELAY', 'WEATHER_DELAY','NAS_DELAY','SECURITY_DELAY',\n",
    "                                              'LATE_AIRCRAFT_DELAY']])\n",
    "                                              \n",
    "                                              \n",
    "                                              \n",
    "                                             \n",
    "df_num_sc= pd.DataFrame(df_num_sc)\n",
    "df_num_sc.columns = ['CARRIER_DELAY', 'WEATHER_DELAY','NAS_DELAY','SECURITY_DELAY', 'LATE_AIRCRAFT_DELAY']\n",
    "                                              \n",
    "                                              \n",
    "                     \n",
    "                                              \n",
    "\n",
    "df_model_1=df_model.drop(df_model[['CARRIER_DELAY', 'WEATHER_DELAY','NAS_DELAY','SECURITY_DELAY', 'LATE_AIRCRAFT_DELAY']], axis=1)\n",
    "                                   \n",
    "                                 \n",
    "\n",
    "df_model_sc=pd.concat([df_num_sc, df_model_1], axis=1)\n",
    "df_model_sc.head()"
   ]
  },
  {
   "cell_type": "code",
   "execution_count": 6,
   "metadata": {},
   "outputs": [],
   "source": [
    "#df_model_sc.to_csv('05_data_model_final_sc.csv')"
   ]
  },
  {
   "cell_type": "markdown",
   "metadata": {
    "colab_type": "text",
    "id": "Qay21usSarea"
   },
   "source": [
    "### 3.1 Multiple Linear Regression"
   ]
  },
  {
   "cell_type": "code",
   "execution_count": 7,
   "metadata": {
    "colab": {},
    "colab_type": "code",
    "id": "odwuI4dMS4Qq"
   },
   "outputs": [],
   "source": [
    "def train_cross_val(cols):\n",
    "\n",
    "    features = df_model_sc[cols]\n",
    "    target = df_model_sc['DEP_DELAY']\n",
    "\n",
    "    r2_values = []\n",
    "    rmse_values = []\n",
    "    variance_values =  []\n",
    "\n",
    "    #KFold\n",
    "    kf = KFold(n_splits=5, shuffle=True, random_state=3)\n",
    "\n",
    "    #itérer à travers chaque fold\n",
    "    for train_index, test_index in kf.split(df_model_sc):\n",
    "\n",
    "        #sets de training et de tests\n",
    "        X_train, X_test = features.iloc[train_index], features.iloc[test_index]\n",
    "        y_train, y_test = target.iloc[train_index], target.iloc[test_index]\n",
    "\n",
    "        #Adapter le modèle et faire des prédictions \n",
    "        lr = LinearRegression()\n",
    "        lr.fit(X_train, y_train)\n",
    "        predictions = lr.predict(X_test)\n",
    "\n",
    "        #Calculer les valeurs r2, rmse et variances\n",
    "        R2 = r2_score(y_test, predictions)\n",
    "        RMSE = np.sqrt(mean_squared_error(y_test, predictions))\n",
    "        Variance = np.var(predictions)\n",
    "\n",
    "        #Ajouter aux listes pour calculer la moyenne globale des métriques\n",
    "        r2_values.append(R2)\n",
    "        rmse_values.append(RMSE)\n",
    "        variance_values.append(Variance)\n",
    "\n",
    "    #Calculer la moyenne des métriques \n",
    "    avg_R2_lr = np.mean(r2_values)\n",
    "    avr_RMSE_lr = np.mean(rmse_values)\n",
    "    avr_Var_lr = np.mean(variance_values)\n",
    "\n",
    "    return(avg_R2_lr, avr_RMSE_lr, avr_Var_lr)    "
   ]
  },
  {
   "cell_type": "code",
   "execution_count": 8,
   "metadata": {
    "colab": {
     "base_uri": "https://localhost:8080/",
     "height": 121
    },
    "colab_type": "code",
    "id": "Qsb5G0AE_Yja",
    "outputId": "357014c3-a0d3-4e8c-9869-4095337ac6b1"
   },
   "outputs": [
    {
     "name": "stdout",
     "output_type": "stream",
     "text": [
      "Var_Without_Delay: -8.379190988899285e+22 6525900292695.685 5.034216076724611e+25\n",
      "Var_CARRIER_Delay: -2.2068221903547347e+19 93366778737.6715 1.3400611220950985e+22\n",
      "Var_CARRIER_WEATHER_DELAY_Delay: -3.670876467814352e+20 250243514284.41504 2.237339354687517e+23\n",
      "Var_CARRIER_WEATHER_NAS_Delay: -5.604414508119397e+19 143228710428.3677 3.336489443525986e+22\n",
      "Var_CARRIER_WEATHER_NAS_SECURITY_Delay: -8.235229286257666e+18 50245015147.03644 4.792898516081067e+21\n",
      "Var_CARRIER_WEATHER_NAS_SECURITY_LATE_AIRCRAFT_Delay: -2.012772873182787e+18 29769992107.196693 1.2019893556255696e+21\n"
     ]
    }
   ],
   "source": [
    "R2_0, RMSE_0, Var_0 = train_cross_val(df_model_sc.columns.drop(['DEP_DELAY', 'CARRIER_DELAY', 'WEATHER_DELAY', 'NAS_DELAY', 'SECURITY_DELAY', \n",
    "                                                          'LATE_AIRCRAFT_DELAY']))                                 \n",
    "print('Var_Without_Delay:', R2_0, RMSE_0, Var_0)\n",
    "\n",
    "R2_1, RMSE_1, Var_1 = train_cross_val(df_model_sc.columns.drop(['DEP_DELAY', 'WEATHER_DELAY', 'NAS_DELAY', 'SECURITY_DELAY', 'LATE_AIRCRAFT_DELAY']))\n",
    "print('Var_CARRIER_Delay:', R2_1, RMSE_1, Var_1)\n",
    "\n",
    "R2_2, RMSE_2, Var_2 = train_cross_val(df_model_sc.columns.drop(['DEP_DELAY', 'NAS_DELAY', 'SECURITY_DELAY', 'LATE_AIRCRAFT_DELAY']))                      \n",
    "print('Var_CARRIER_WEATHER_DELAY_Delay:', R2_2, RMSE_2, Var_2)\n",
    "\n",
    "R2_3, RMSE_3, Var_3 = train_cross_val(df_model_sc.columns.drop(['DEP_DELAY', 'SECURITY_DELAY', 'LATE_AIRCRAFT_DELAY']))                 \n",
    "print('Var_CARRIER_WEATHER_NAS_Delay:', R2_3, RMSE_3, Var_3)\n",
    "\n",
    "R2_4, RMSE_4, Var_4 = train_cross_val(df_model_sc.columns.drop(['DEP_DELAY', 'LATE_AIRCRAFT_DELAY']))                             \n",
    "print('Var_CARRIER_WEATHER_NAS_SECURITY_Delay:', R2_4, RMSE_4, Var_4)\n",
    "\n",
    "R2_5, RMSE_5, Var_5 = train_cross_val(df_model_sc.columns.drop(['DEP_DELAY']))                         \n",
    "print('Var_CARRIER_WEATHER_NAS_SECURITY_LATE_AIRCRAFT_Delay:', R2_5, RMSE_5, Var_5)"
   ]
  },
  {
   "cell_type": "markdown",
   "metadata": {
    "colab_type": "text",
    "id": "r65-TWDlbygd"
   },
   "source": [
    "### **3.2 PCA and MLR**"
   ]
  },
  {
   "cell_type": "code",
   "execution_count": 9,
   "metadata": {
    "colab": {},
    "colab_type": "code",
    "id": "PL9FqUEMG9L0"
   },
   "outputs": [],
   "source": [
    "#Data for models\n",
    "X_models = df_model_sc.drop(['DEP_DELAY', 'CARRIER_DELAY','WEATHER_DELAY','NAS_DELAY','SECURITY_DELAY','LATE_AIRCRAFT_DELAY'], axis=1).values\n",
    "y_models = df_model_sc['DEP_DELAY'].values"
   ]
  },
  {
   "cell_type": "code",
   "execution_count": 10,
   "metadata": {
    "colab": {},
    "colab_type": "code",
    "id": "CK06mGiCivl-"
   },
   "outputs": [],
   "source": [
    "#Splitting the data\n",
    "from sklearn.model_selection import train_test_split\n",
    "X_train_1, X_test_1, y_train_1, y_test_1 = train_test_split (X_models, y_models, test_size = 0.25)"
   ]
  },
  {
   "cell_type": "code",
   "execution_count": 11,
   "metadata": {
    "colab": {},
    "colab_type": "code",
    "id": "poVrqk_FjFLi"
   },
   "outputs": [],
   "source": [
    "#Applying PCA\n",
    "from sklearn.decomposition import PCA\n",
    "pca = PCA(n_components=None)\n",
    "X_train_pca = pca.fit_transform(X_train_1)\n",
    "X_test_pca = pca.fit_transform(X_test_1)"
   ]
  },
  {
   "cell_type": "code",
   "execution_count": 12,
   "metadata": {
    "colab": {},
    "colab_type": "code",
    "id": "YoiMVhiljSbM"
   },
   "outputs": [],
   "source": [
    "pcs = pca.components_"
   ]
  },
  {
   "cell_type": "code",
   "execution_count": 13,
   "metadata": {
    "colab": {},
    "colab_type": "code",
    "id": "1_YbkBUbjWAl"
   },
   "outputs": [],
   "source": [
    "var = pca.explained_variance_ratio_"
   ]
  },
  {
   "cell_type": "code",
   "execution_count": 14,
   "metadata": {
    "colab": {
     "base_uri": "https://localhost:8080/",
     "height": 265
    },
    "colab_type": "code",
    "id": "fx8oMmxTjbIN",
    "outputId": "7a421882-a76d-4571-becf-804faa7f951b"
   },
   "outputs": [
    {
     "data": {
      "image/png": "[encoded data removed]",
      "text/plain": [
       "<Figure size 432x288 with 1 Axes>"
      ]
     },
     "metadata": {
      "needs_background": "light"
     },
     "output_type": "display_data"
    }
   ],
   "source": [
    "plt.plot(var)\n",
    "plt.draw()"
   ]
  },
  {
   "cell_type": "code",
   "execution_count": 15,
   "metadata": {
    "colab": {},
    "colab_type": "code",
    "id": "Cir36nYkjdnL"
   },
   "outputs": [],
   "source": [
    "var1 = np.cumsum(np.round(pca.explained_variance_ratio_, decimals=4)*100)"
   ]
  },
  {
   "cell_type": "code",
   "execution_count": 17,
   "metadata": {
    "colab": {
     "base_uri": "https://localhost:8080/",
     "height": 265
    },
    "colab_type": "code",
    "id": "T5shSe1Ujh-5",
    "outputId": "397b9b2c-e29d-4fd9-9317-9cc8351c42f1"
   },
   "outputs": [
    {
     "data": {
      "image/png": "[encoded data removed]",
      "text/plain": [
       "<Figure size 432x288 with 1 Axes>"
      ]
     },
     "metadata": {
      "needs_background": "light"
     },
     "output_type": "display_data"
    }
   ],
   "source": [
    "plt.plot(var1)\n",
    "plt.draw()\n",
    "#200 compotents explain ~ 95% of information"
   ]
  },
  {
   "cell_type": "code",
   "execution_count": 18,
   "metadata": {
    "colab": {},
    "colab_type": "code",
    "id": "jMQgMznXAa0q"
   },
   "outputs": [],
   "source": [
    "pca = PCA(n_components=200)\n",
    "X_train_pca_200 = pca.fit_transform(X_train_1)\n",
    "X_test_pca_200 = pca.fit_transform(X_test_1)"
   ]
  },
  {
   "cell_type": "code",
   "execution_count": 19,
   "metadata": {
    "colab": {
     "base_uri": "https://localhost:8080/",
     "height": 139
    },
    "colab_type": "code",
    "id": "y6TjFVi6L1OT",
    "outputId": "bbc698b5-5bdc-4a2b-81df-224ed9a5b358"
   },
   "outputs": [
    {
     "name": "stdout",
     "output_type": "stream",
     "text": [
      "R2_cv : [0.05898457 0.05638233 0.04873087 0.06374611 0.04117636]\n",
      "R2_cv_Mean : 0.05380404986495883\n",
      "RMSES_cv : [4.35970915 4.34179113 4.37316295 4.36603439 4.37766616]\n",
      "RMSE_cv_Mean : 4.36367275324775\n",
      "RMSE_cv_std: 0.012537720364760235\n",
      "R_squared_pca_lr: -0.07544832578160543\n",
      "RMSE_pca_lr : 24.831504800838758\n"
     ]
    }
   ],
   "source": [
    "# MLR with PCA\n",
    "from  sklearn.metrics import r2_score, mean_squared_error\n",
    "from math import sqrt\n",
    "\n",
    "lr = LinearRegression()\n",
    "#kf = KFold(10, shuffle=True, random_state=1)\n",
    "r2 = cross_val_score(lr, X_train_pca_200, y_train_1, cv=5)\n",
    "mses = cross_val_score(lr, X_train_pca_200, y_train_1, scoring = 'neg_mean_absolute_error', cv=5)\n",
    "rmses = np.sqrt(np.absolute(mses))\n",
    "\n",
    "print('R2_cv :', r2)\n",
    "print('R2_cv_Mean :', np.mean(r2))\n",
    "print('RMSES_cv :', rmses)\n",
    "print('RMSE_cv_Mean :', rmses.mean())\n",
    "print('RMSE_cv_std:', rmses.std())\n",
    "\n",
    "lr.fit(X_train_pca_200, y_train_1)\n",
    "y_true, y_pred = y_test_1, lr.predict(X_test_pca_200)\n",
    "\n",
    "r2_pca_lr = r2_score(y_true, y_pred) \n",
    "rmse_pca_lr = np.sqrt(mean_squared_error(y_true, y_pred))\n",
    "\n",
    "print(\"R_squared_pca_lr: {}\".format(r2_pca_lr))\n",
    "print(\"RMSE_pca_lr : {}\".format(rmse_pca_lr))"
   ]
  },
  {
   "cell_type": "markdown",
   "metadata": {
    "colab_type": "text",
    "id": "MkgBeKj_d6qz"
   },
   "source": [
    "### **3.3 Ridge Regression**"
   ]
  },
  {
   "cell_type": "code",
   "execution_count": 20,
   "metadata": {
    "colab": {
     "base_uri": "https://localhost:8080/",
     "height": 35
    },
    "colab_type": "code",
    "id": "7jxul30zrfQE",
    "outputId": "b36a77f5-6f28-4c97-d5c4-a251553f10cc"
   },
   "outputs": [
    {
     "data": {
      "text/plain": [
       "((10233, 627), (3412, 627))"
      ]
     },
     "execution_count": 20,
     "metadata": {},
     "output_type": "execute_result"
    }
   ],
   "source": [
    "X_train_RL, X_test_RL, y_train_RL, y_test_RL = train_test_split (X_models, y_models, test_size = 0.25)\n",
    "X_train_RL.shape, X_test_RL.shape"
   ]
  },
  {
   "cell_type": "code",
   "execution_count": 19,
   "metadata": {
    "colab": {},
    "colab_type": "code",
    "id": "EOCt6hU3GuAj"
   },
   "outputs": [],
   "source": [
    "from sklearn.linear_model import Ridge\n",
    "n_alpahs = 50\n",
    "alphas = np.logspace(-5, 5, 50)\n",
    "reg_ridge =  Ridge()\n",
    "coefs = []\n",
    "errors = []\n",
    "for a in alphas:\n",
    "    reg_ridge.set_params(alpha=a)\n",
    "    reg_ridge.fit(X_train_RL, y_train_RL)\n",
    "    coefs.append(reg_ridge.coef_)\n",
    "    errors.append(np.mean((reg_ridge.predict(X_test_RL) - y_test_RL) ** 2))"
   ]
  },
  {
   "cell_type": "code",
   "execution_count": 20,
   "metadata": {
    "colab": {
     "base_uri": "https://localhost:8080/",
     "height": 287
    },
    "colab_type": "code",
    "id": "gVHIEKAFG2SK",
    "outputId": "e936466d-6280-432a-dc0f-419625776754"
   },
   "outputs": [
    {
     "data": {
      "text/plain": [
       "<function matplotlib.pyplot.show(*args, **kw)>"
      ]
     },
     "execution_count": 20,
     "metadata": {},
     "output_type": "execute_result"
    },
    {
     "data": {
      "image/png": "[encoded data removed]",
      "text/plain": [
       "<Figure size 432x288 with 1 Axes>"
      ]
     },
     "metadata": {
      "needs_background": "light"
     },
     "output_type": "display_data"
    }
   ],
   "source": [
    "ax = plt.gca()\n",
    "ax.plot(alphas, errors)\n",
    "ax.set_xscale('log')\n",
    "plt.show"
   ]
  },
  {
   "cell_type": "code",
   "execution_count": 21,
   "metadata": {
    "colab": {
     "base_uri": "https://localhost:8080/",
     "height": 69
    },
    "colab_type": "code",
    "id": "1M9B2s0dG7zb",
    "outputId": "b8b294b8-7249-46f9-9d8c-ba5c8429c628"
   },
   "outputs": [
    {
     "name": "stdout",
     "output_type": "stream",
     "text": [
      "34\n"
     ]
    }
   ],
   "source": [
    "print(np.argmin(errors))"
   ]
  },
  {
   "cell_type": "code",
   "execution_count": 22,
   "metadata": {},
   "outputs": [
    {
     "name": "stdout",
     "output_type": "stream",
     "text": [
      "23.34334289518614\n"
     ]
    }
   ],
   "source": [
    "print(np.sqrt(errors[np.argmin(errors)]))"
   ]
  },
  {
   "cell_type": "code",
   "execution_count": 23,
   "metadata": {},
   "outputs": [
    {
     "name": "stdout",
     "output_type": "stream",
     "text": [
      "86.85113737513521\n"
     ]
    }
   ],
   "source": [
    "print(alphas[34])"
   ]
  },
  {
   "cell_type": "code",
   "execution_count": 24,
   "metadata": {
    "colab": {
     "base_uri": "https://localhost:8080/",
     "height": 269
    },
    "colab_type": "code",
    "id": "J89jEijcHOBL",
    "outputId": "270eb30d-51a2-4384-90cf-851848575dd0"
   },
   "outputs": [
    {
     "data": {
      "image/png": "[encoded data removed]",
      "text/plain": [
       "<Figure size 432x288 with 1 Axes>"
      ]
     },
     "metadata": {
      "needs_background": "light"
     },
     "output_type": "display_data"
    }
   ],
   "source": [
    "ax = plt.gca()\n",
    "ax.plot(alphas, coefs)\n",
    "ax.set_xscale('log')\n",
    "plt.show()"
   ]
  },
  {
   "cell_type": "markdown",
   "metadata": {
    "colab_type": "text",
    "id": "Fgo-vsBBeez0"
   },
   "source": [
    "### **3.4 Lasso Regression**"
   ]
  },
  {
   "cell_type": "code",
   "execution_count": 25,
   "metadata": {
    "colab": {
     "base_uri": "https://localhost:8080/",
     "height": 176
    },
    "colab_type": "code",
    "id": "68sim_ZxHRaf",
    "outputId": "c5c8adc2-1eda-40fa-d341-7e45e29b321d"
   },
   "outputs": [
    {
     "name": "stderr",
     "output_type": "stream",
     "text": [
      "C:\\Users\\adild\\Anaconda3\\envs\\deeplearningaz\\lib\\site-packages\\sklearn\\linear_model\\coordinate_descent.py:491: ConvergenceWarning: Objective did not converge. You might want to increase the number of iterations. Fitting data with very small alpha may cause precision problems.\n",
      "  ConvergenceWarning)\n",
      "C:\\Users\\adild\\Anaconda3\\envs\\deeplearningaz\\lib\\site-packages\\sklearn\\linear_model\\coordinate_descent.py:491: ConvergenceWarning: Objective did not converge. You might want to increase the number of iterations. Fitting data with very small alpha may cause precision problems.\n",
      "  ConvergenceWarning)\n",
      "C:\\Users\\adild\\Anaconda3\\envs\\deeplearningaz\\lib\\site-packages\\sklearn\\linear_model\\coordinate_descent.py:491: ConvergenceWarning: Objective did not converge. You might want to increase the number of iterations. Fitting data with very small alpha may cause precision problems.\n",
      "  ConvergenceWarning)\n",
      "C:\\Users\\adild\\Anaconda3\\envs\\deeplearningaz\\lib\\site-packages\\sklearn\\linear_model\\coordinate_descent.py:491: ConvergenceWarning: Objective did not converge. You might want to increase the number of iterations. Fitting data with very small alpha may cause precision problems.\n",
      "  ConvergenceWarning)\n",
      "C:\\Users\\adild\\Anaconda3\\envs\\deeplearningaz\\lib\\site-packages\\sklearn\\linear_model\\coordinate_descent.py:491: ConvergenceWarning: Objective did not converge. You might want to increase the number of iterations. Fitting data with very small alpha may cause precision problems.\n",
      "  ConvergenceWarning)\n",
      "C:\\Users\\adild\\Anaconda3\\envs\\deeplearningaz\\lib\\site-packages\\sklearn\\linear_model\\coordinate_descent.py:491: ConvergenceWarning: Objective did not converge. You might want to increase the number of iterations. Fitting data with very small alpha may cause precision problems.\n",
      "  ConvergenceWarning)\n",
      "C:\\Users\\adild\\Anaconda3\\envs\\deeplearningaz\\lib\\site-packages\\sklearn\\linear_model\\coordinate_descent.py:491: ConvergenceWarning: Objective did not converge. You might want to increase the number of iterations. Fitting data with very small alpha may cause precision problems.\n",
      "  ConvergenceWarning)\n"
     ]
    }
   ],
   "source": [
    "from sklearn.linear_model import Lasso\n",
    "n_alpahs = 50\n",
    "alphas = np.logspace(-5, 5, 50)\n",
    "reg_lasso =  Lasso()\n",
    "coefs = []\n",
    "errors = []\n",
    "for a in alphas:\n",
    "    reg_lasso.set_params(alpha=a)\n",
    "    reg_lasso.fit(X_train_RL, y_train_RL)\n",
    "    coefs.append(reg_lasso.coef_)\n",
    "    errors.append(np.mean((reg_lasso.predict(X_test_RL) - y_test_RL) ** 2))"
   ]
  },
  {
   "cell_type": "code",
   "execution_count": 26,
   "metadata": {
    "colab": {
     "base_uri": "https://localhost:8080/",
     "height": 287
    },
    "colab_type": "code",
    "id": "JwsrBuOvHWeZ",
    "outputId": "223e9cff-96a6-4e98-f9c3-15ab32d14a6c"
   },
   "outputs": [
    {
     "data": {
      "text/plain": [
       "<function matplotlib.pyplot.show(*args, **kw)>"
      ]
     },
     "execution_count": 26,
     "metadata": {},
     "output_type": "execute_result"
    },
    {
     "data": {
      "image/png": "[encoded data removed]",
      "text/plain": [
       "<Figure size 432x288 with 1 Axes>"
      ]
     },
     "metadata": {
      "needs_background": "light"
     },
     "output_type": "display_data"
    }
   ],
   "source": [
    "ax = plt.gca()\n",
    "ax.plot(alphas, errors)\n",
    "ax.set_xscale('log')\n",
    "plt.show"
   ]
  },
  {
   "cell_type": "code",
   "execution_count": 27,
   "metadata": {},
   "outputs": [
    {
     "name": "stdout",
     "output_type": "stream",
     "text": [
      "17\n"
     ]
    }
   ],
   "source": [
    "print(np.argmin(errors))"
   ]
  },
  {
   "cell_type": "code",
   "execution_count": 28,
   "metadata": {
    "colab": {
     "base_uri": "https://localhost:8080/",
     "height": 35
    },
    "colab_type": "code",
    "id": "Vt8wwzQbHd0b",
    "outputId": "84b0ccee-c761-47b1-e318-1209155fc9ad"
   },
   "outputs": [
    {
     "name": "stdout",
     "output_type": "stream",
     "text": [
      "23.33735186649792\n"
     ]
    }
   ],
   "source": [
    "print(np.sqrt(errors[np.argmin(errors)]))"
   ]
  },
  {
   "cell_type": "code",
   "execution_count": 29,
   "metadata": {},
   "outputs": [
    {
     "name": "stdout",
     "output_type": "stream",
     "text": [
      "0.029470517025518096\n"
     ]
    }
   ],
   "source": [
    "print(alphas[17])"
   ]
  },
  {
   "cell_type": "code",
   "execution_count": 30,
   "metadata": {
    "colab": {
     "base_uri": "https://localhost:8080/",
     "height": 269
    },
    "colab_type": "code",
    "id": "Hek34NT-HkkM",
    "outputId": "3fa3f7df-5ab6-459a-fc43-7f377a87a1d6"
   },
   "outputs": [
    {
     "data": {
      "image/png": "[encoded data removed]",
      "text/plain": [
       "<Figure size 432x288 with 1 Axes>"
      ]
     },
     "metadata": {
      "needs_background": "light"
     },
     "output_type": "display_data"
    }
   ],
   "source": [
    "ax = plt.gca()\n",
    "ax.plot(alphas, coefs)\n",
    "ax.set_xscale('log')\n",
    "plt.show()"
   ]
  },
  {
   "cell_type": "markdown",
   "metadata": {
    "colab_type": "text",
    "id": "UbB-ZfKMg-YY"
   },
   "source": [
    "### 3.5 Ridge Regression with Cross Validation "
   ]
  },
  {
   "cell_type": "code",
   "execution_count": 39,
   "metadata": {
    "colab": {
     "base_uri": "https://localhost:8080/",
     "height": 225
    },
    "colab_type": "code",
    "id": "yFEtm9-UuD1o",
    "outputId": "651680a8-e4ba-4084-e797-d62e54907970"
   },
   "outputs": [
    {
     "data": {
      "text/plain": [
       "GridSearchCV(cv=5, error_score='raise',\n",
       "       estimator=Ridge(alpha=1.0, copy_X=True, fit_intercept=True, max_iter=None,\n",
       "   normalize=False, random_state=None, solver='auto', tol=0.001),\n",
       "       fit_params=None, iid=True, n_jobs=1,\n",
       "       param_grid={'alpha': array([1.00000e-05, 3.35982e-05, 1.12884e-04, 3.79269e-04, 1.27427e-03,\n",
       "       4.28133e-03, 1.43845e-02, 4.83293e-02, 1.62378e-01, 5.45559e-01,\n",
       "       1.83298e+00, 6.15848e+00, 2.06914e+01, 6.95193e+01, 2.33572e+02,\n",
       "       7.84760e+02, 2.63665e+03, 8.85867e+03, 2.97635e+04, 1.00000e+05])},\n",
       "       pre_dispatch='2*n_jobs', refit=True, return_train_score=True,\n",
       "       scoring=None, verbose=0)"
      ]
     },
     "execution_count": 39,
     "metadata": {},
     "output_type": "execute_result"
    }
   ],
   "source": [
    "from sklearn.linear_model import Ridge\n",
    "reg_ridge =  Ridge()\n",
    "params = {'alpha':np.logspace(-5,5,20)}\n",
    "gscv_reg_ridge=GridSearchCV(reg_ridge,params,cv=5)\n",
    "gscv_reg_ridge.fit(X_train_RL, y_train_RL)"
   ]
  },
  {
   "cell_type": "code",
   "execution_count": 40,
   "metadata": {
    "colab": {
     "base_uri": "https://localhost:8080/",
     "height": 52
    },
    "colab_type": "code",
    "id": "8CdefVIEc0iz",
    "outputId": "983a7b22-3e25-424b-f5e4-891321169746"
   },
   "outputs": [
    {
     "name": "stdout",
     "output_type": "stream",
     "text": [
      "{'alpha': 69.51927961775606}\n",
      "0.06502401524454975\n"
     ]
    }
   ],
   "source": [
    "print(gscv_reg_ridge.best_params_)\n",
    "print(gscv_reg_ridge.best_score_)"
   ]
  },
  {
   "cell_type": "code",
   "execution_count": 41,
   "metadata": {
    "colab": {},
    "colab_type": "code",
    "id": "1LMaKYd50F-_"
   },
   "outputs": [],
   "source": [
    "y_pred_ridge = gscv_reg_ridge.predict(X_test_RL)"
   ]
  },
  {
   "cell_type": "code",
   "execution_count": 42,
   "metadata": {
    "colab": {},
    "colab_type": "code",
    "id": "mccefMsyNyQ_"
   },
   "outputs": [],
   "source": [
    "r2_rr = r2_score(y_test_RL, y_pred_ridge)\n",
    "rmse_rr = np.sqrt(mean_squared_error(y_test_RL, y_pred_ridge))"
   ]
  },
  {
   "cell_type": "code",
   "execution_count": 43,
   "metadata": {
    "colab": {
     "base_uri": "https://localhost:8080/",
     "height": 52
    },
    "colab_type": "code",
    "id": "0FNz3M8q24KW",
    "outputId": "25a64560-aa0e-437d-ef76-622b383c5c9f"
   },
   "outputs": [
    {
     "name": "stdout",
     "output_type": "stream",
     "text": [
      "R_squared_rr: 0.06220797812256529\n",
      "RMSE_rr : 23.696558590081587\n"
     ]
    }
   ],
   "source": [
    "print(\"R_squared_rr: {}\".format(r2_rr))\n",
    "print(\"RMSE_rr : {}\".format(rmse_rr))"
   ]
  },
  {
   "cell_type": "markdown",
   "metadata": {
    "colab_type": "text",
    "id": "1DO9D54VhWiP"
   },
   "source": [
    "### **3.6 Lasso Regression with Cross Validation**"
   ]
  },
  {
   "cell_type": "code",
   "execution_count": 45,
   "metadata": {
    "colab": {
     "base_uri": "https://localhost:8080/",
     "height": 575
    },
    "colab_type": "code",
    "id": "M87fZs1gXqmv",
    "outputId": "0091c268-f91d-475f-fd6f-19e7eab80398"
   },
   "outputs": [
    {
     "name": "stderr",
     "output_type": "stream",
     "text": [
      "C:\\Users\\adild\\Anaconda3\\envs\\deeplearningaz\\lib\\site-packages\\sklearn\\linear_model\\coordinate_descent.py:491: ConvergenceWarning: Objective did not converge. You might want to increase the number of iterations. Fitting data with very small alpha may cause precision problems.\n",
      "  ConvergenceWarning)\n",
      "C:\\Users\\adild\\Anaconda3\\envs\\deeplearningaz\\lib\\site-packages\\sklearn\\linear_model\\coordinate_descent.py:491: ConvergenceWarning: Objective did not converge. You might want to increase the number of iterations. Fitting data with very small alpha may cause precision problems.\n",
      "  ConvergenceWarning)\n",
      "C:\\Users\\adild\\Anaconda3\\envs\\deeplearningaz\\lib\\site-packages\\sklearn\\linear_model\\coordinate_descent.py:491: ConvergenceWarning: Objective did not converge. You might want to increase the number of iterations. Fitting data with very small alpha may cause precision problems.\n",
      "  ConvergenceWarning)\n",
      "C:\\Users\\adild\\Anaconda3\\envs\\deeplearningaz\\lib\\site-packages\\sklearn\\linear_model\\coordinate_descent.py:491: ConvergenceWarning: Objective did not converge. You might want to increase the number of iterations. Fitting data with very small alpha may cause precision problems.\n",
      "  ConvergenceWarning)\n",
      "C:\\Users\\adild\\Anaconda3\\envs\\deeplearningaz\\lib\\site-packages\\sklearn\\linear_model\\coordinate_descent.py:491: ConvergenceWarning: Objective did not converge. You might want to increase the number of iterations. Fitting data with very small alpha may cause precision problems.\n",
      "  ConvergenceWarning)\n",
      "C:\\Users\\adild\\Anaconda3\\envs\\deeplearningaz\\lib\\site-packages\\sklearn\\linear_model\\coordinate_descent.py:491: ConvergenceWarning: Objective did not converge. You might want to increase the number of iterations. Fitting data with very small alpha may cause precision problems.\n",
      "  ConvergenceWarning)\n",
      "C:\\Users\\adild\\Anaconda3\\envs\\deeplearningaz\\lib\\site-packages\\sklearn\\linear_model\\coordinate_descent.py:491: ConvergenceWarning: Objective did not converge. You might want to increase the number of iterations. Fitting data with very small alpha may cause precision problems.\n",
      "  ConvergenceWarning)\n",
      "C:\\Users\\adild\\Anaconda3\\envs\\deeplearningaz\\lib\\site-packages\\sklearn\\linear_model\\coordinate_descent.py:491: ConvergenceWarning: Objective did not converge. You might want to increase the number of iterations. Fitting data with very small alpha may cause precision problems.\n",
      "  ConvergenceWarning)\n",
      "C:\\Users\\adild\\Anaconda3\\envs\\deeplearningaz\\lib\\site-packages\\sklearn\\linear_model\\coordinate_descent.py:491: ConvergenceWarning: Objective did not converge. You might want to increase the number of iterations. Fitting data with very small alpha may cause precision problems.\n",
      "  ConvergenceWarning)\n",
      "C:\\Users\\adild\\Anaconda3\\envs\\deeplearningaz\\lib\\site-packages\\sklearn\\linear_model\\coordinate_descent.py:491: ConvergenceWarning: Objective did not converge. You might want to increase the number of iterations. Fitting data with very small alpha may cause precision problems.\n",
      "  ConvergenceWarning)\n",
      "C:\\Users\\adild\\Anaconda3\\envs\\deeplearningaz\\lib\\site-packages\\sklearn\\linear_model\\coordinate_descent.py:491: ConvergenceWarning: Objective did not converge. You might want to increase the number of iterations. Fitting data with very small alpha may cause precision problems.\n",
      "  ConvergenceWarning)\n",
      "C:\\Users\\adild\\Anaconda3\\envs\\deeplearningaz\\lib\\site-packages\\sklearn\\linear_model\\coordinate_descent.py:491: ConvergenceWarning: Objective did not converge. You might want to increase the number of iterations. Fitting data with very small alpha may cause precision problems.\n",
      "  ConvergenceWarning)\n",
      "C:\\Users\\adild\\Anaconda3\\envs\\deeplearningaz\\lib\\site-packages\\sklearn\\linear_model\\coordinate_descent.py:491: ConvergenceWarning: Objective did not converge. You might want to increase the number of iterations. Fitting data with very small alpha may cause precision problems.\n",
      "  ConvergenceWarning)\n",
      "C:\\Users\\adild\\Anaconda3\\envs\\deeplearningaz\\lib\\site-packages\\sklearn\\linear_model\\coordinate_descent.py:491: ConvergenceWarning: Objective did not converge. You might want to increase the number of iterations. Fitting data with very small alpha may cause precision problems.\n",
      "  ConvergenceWarning)\n",
      "C:\\Users\\adild\\Anaconda3\\envs\\deeplearningaz\\lib\\site-packages\\sklearn\\linear_model\\coordinate_descent.py:491: ConvergenceWarning: Objective did not converge. You might want to increase the number of iterations. Fitting data with very small alpha may cause precision problems.\n",
      "  ConvergenceWarning)\n",
      "C:\\Users\\adild\\Anaconda3\\envs\\deeplearningaz\\lib\\site-packages\\sklearn\\linear_model\\coordinate_descent.py:491: ConvergenceWarning: Objective did not converge. You might want to increase the number of iterations. Fitting data with very small alpha may cause precision problems.\n",
      "  ConvergenceWarning)\n",
      "C:\\Users\\adild\\Anaconda3\\envs\\deeplearningaz\\lib\\site-packages\\sklearn\\linear_model\\coordinate_descent.py:491: ConvergenceWarning: Objective did not converge. You might want to increase the number of iterations. Fitting data with very small alpha may cause precision problems.\n",
      "  ConvergenceWarning)\n",
      "C:\\Users\\adild\\Anaconda3\\envs\\deeplearningaz\\lib\\site-packages\\sklearn\\linear_model\\coordinate_descent.py:491: ConvergenceWarning: Objective did not converge. You might want to increase the number of iterations. Fitting data with very small alpha may cause precision problems.\n",
      "  ConvergenceWarning)\n"
     ]
    },
    {
     "data": {
      "text/plain": [
       "GridSearchCV(cv=5, error_score='raise',\n",
       "       estimator=Lasso(alpha=1.0, copy_X=True, fit_intercept=True, max_iter=1000,\n",
       "   normalize=False, positive=False, precompute=False, random_state=None,\n",
       "   selection='cyclic', tol=0.0001, warm_start=False),\n",
       "       fit_params=None, iid=True, n_jobs=1,\n",
       "       param_grid={'alpha': array([1.00000e-05, 3.35982e-05, 1.12884e-04, 3.79269e-04, 1.27427e-03,\n",
       "       4.28133e-03, 1.43845e-02, 4.83293e-02, 1.62378e-01, 5.45559e-01,\n",
       "       1.83298e+00, 6.15848e+00, 2.06914e+01, 6.95193e+01, 2.33572e+02,\n",
       "       7.84760e+02, 2.63665e+03, 8.85867e+03, 2.97635e+04, 1.00000e+05])},\n",
       "       pre_dispatch='2*n_jobs', refit=True, return_train_score=True,\n",
       "       scoring=None, verbose=0)"
      ]
     },
     "execution_count": 45,
     "metadata": {},
     "output_type": "execute_result"
    }
   ],
   "source": [
    "from sklearn.linear_model import Lasso\n",
    "reg_lasso =  Lasso()\n",
    "params = {'alpha':np.logspace(-5,5,20)}\n",
    "gscv_reg_lasso = GridSearchCV(reg_lasso, params,cv=5)\n",
    "gscv_reg_lasso.fit(X_train_RL, y_train_RL)"
   ]
  },
  {
   "cell_type": "code",
   "execution_count": 46,
   "metadata": {
    "colab": {
     "base_uri": "https://localhost:8080/",
     "height": 52
    },
    "colab_type": "code",
    "id": "iD84WwF75vxl",
    "outputId": "b495d92a-d01f-4644-c486-b261f5ec65f2"
   },
   "outputs": [
    {
     "name": "stdout",
     "output_type": "stream",
     "text": [
      "{'alpha': 0.01438449888287663}\n",
      "0.06600113396718518\n"
     ]
    }
   ],
   "source": [
    "print(gscv_reg_lasso.best_params_)\n",
    "print(gscv_reg_lasso.best_score_)"
   ]
  },
  {
   "cell_type": "code",
   "execution_count": 47,
   "metadata": {
    "colab": {},
    "colab_type": "code",
    "id": "wKBaTQ3D6HF4"
   },
   "outputs": [],
   "source": [
    "y_pred_lasso = gscv_reg_lasso.predict(X_test_RL)"
   ]
  },
  {
   "cell_type": "code",
   "execution_count": 48,
   "metadata": {
    "colab": {},
    "colab_type": "code",
    "id": "i973wqBPOlEX"
   },
   "outputs": [],
   "source": [
    "r2_lr = r2_score(y_test_RL, y_pred_lasso)\n",
    "rmse_lr = np.sqrt(mean_squared_error(y_test_RL, y_pred_lasso))"
   ]
  },
  {
   "cell_type": "code",
   "execution_count": 49,
   "metadata": {
    "colab": {
     "base_uri": "https://localhost:8080/",
     "height": 52
    },
    "colab_type": "code",
    "id": "RAc0_Orf68aj",
    "outputId": "eb2f168e-b667-4533-8241-390a793f905f"
   },
   "outputs": [
    {
     "name": "stdout",
     "output_type": "stream",
     "text": [
      "R_squared_lr: 0.06254827030394383\n",
      "RMSE_lr : 23.692258870595555\n"
     ]
    }
   ],
   "source": [
    "print(\"R_squared_lr: {}\".format(r2_lr))\n",
    "print(\"RMSE_lr : {}\".format(rmse_lr))"
   ]
  },
  {
   "cell_type": "markdown",
   "metadata": {
    "colab_type": "text",
    "id": "F6NL3vCTuzls"
   },
   "source": [
    "### **3.7 Decision Tree**"
   ]
  },
  {
   "cell_type": "code",
   "execution_count": 50,
   "metadata": {
    "colab": {},
    "colab_type": "code",
    "id": "B9bArgsZyf59"
   },
   "outputs": [],
   "source": [
    "X_train_DT, X_test_DT, y_train_DT, y_test_DT = train_test_split(X_models, y_models, test_size = 0.25)"
   ]
  },
  {
   "cell_type": "code",
   "execution_count": 51,
   "metadata": {
    "colab": {
     "base_uri": "https://localhost:8080/",
     "height": 295
    },
    "colab_type": "code",
    "id": "i8B6W8njvYwZ",
    "outputId": "1015fcfb-39f7-46aa-a394-a5a047e9408d"
   },
   "outputs": [
    {
     "data": {
      "text/plain": [
       "GridSearchCV(cv=5, error_score='raise',\n",
       "       estimator=DecisionTreeRegressor(criterion='mse', max_depth=None, max_features=None,\n",
       "           max_leaf_nodes=None, min_impurity_decrease=0.0,\n",
       "           min_impurity_split=None, min_samples_leaf=1,\n",
       "           min_samples_split=2, min_weight_fraction_leaf=0.0,\n",
       "           presort=False, random_state=None, splitter='best'),\n",
       "       fit_params=None, iid=True, n_jobs=1,\n",
       "       param_grid={'min_samples_split': range(2, 22)},\n",
       "       pre_dispatch='2*n_jobs', refit=True, return_train_score=True,\n",
       "       scoring=None, verbose=0)"
      ]
     },
     "execution_count": 51,
     "metadata": {},
     "output_type": "execute_result"
    }
   ],
   "source": [
    "from sklearn.tree import DecisionTreeRegressor\n",
    "reg_DT =  DecisionTreeRegressor()\n",
    "param_grid = {'min_samples_split':range(2, 22)}\n",
    "gscv_reg_DT = GridSearchCV(reg_DT,param_grid,cv=5)\n",
    "gscv_reg_DT.fit(X_train_DT, y_train_DT)"
   ]
  },
  {
   "cell_type": "code",
   "execution_count": 52,
   "metadata": {
    "colab": {
     "base_uri": "https://localhost:8080/",
     "height": 52
    },
    "colab_type": "code",
    "id": "BTKCjfeO3zTm",
    "outputId": "e556d54c-5730-4630-9785-8159ea443cbd"
   },
   "outputs": [
    {
     "name": "stdout",
     "output_type": "stream",
     "text": [
      "{'min_samples_split': 21}\n",
      "-0.4440256676700397\n"
     ]
    }
   ],
   "source": [
    "print(gscv_reg_DT.best_params_)\n",
    "print(gscv_reg_DT.best_score_)"
   ]
  },
  {
   "cell_type": "code",
   "execution_count": 53,
   "metadata": {
    "colab": {},
    "colab_type": "code",
    "id": "LF13WKLy4M9s"
   },
   "outputs": [],
   "source": [
    "y_pred_DT = gscv_reg_DT.predict(X_test_DT)"
   ]
  },
  {
   "cell_type": "code",
   "execution_count": 54,
   "metadata": {
    "colab": {},
    "colab_type": "code",
    "id": "RTXvcHidPAmr"
   },
   "outputs": [],
   "source": [
    "r2_dt = r2_score(y_pred_DT, y_test_DT)\n",
    "rmse_dt = np.sqrt(mean_squared_error(y_pred_DT, y_test_DT))"
   ]
  },
  {
   "cell_type": "code",
   "execution_count": 55,
   "metadata": {
    "colab": {
     "base_uri": "https://localhost:8080/",
     "height": 52
    },
    "colab_type": "code",
    "id": "jnGCmvP84U_U",
    "outputId": "14793e28-44e2-4050-8dc9-6bbaf329af8a"
   },
   "outputs": [
    {
     "name": "stdout",
     "output_type": "stream",
     "text": [
      "R_squared_DT: -1.2355757701484515\n",
      "RMSE_DT : 28.964087829434852\n"
     ]
    }
   ],
   "source": [
    "print(\"R_squared_DT: {}\".format(r2_dt))\n",
    "print(\"RMSE_DT : {}\".format(rmse_dt))"
   ]
  },
  {
   "cell_type": "markdown",
   "metadata": {},
   "source": [
    "### 3.8 Models test with delay variables"
   ]
  },
  {
   "cell_type": "code",
   "execution_count": 56,
   "metadata": {},
   "outputs": [],
   "source": [
    "def reg_with_delay_vars():\n",
    "\n",
    "    features = df_model_sc.drop(['DEP_DELAY'], axis=1).values\n",
    "    target = df_model_sc['DEP_DELAY'].values\n",
    "\n",
    "    X_train_delay, X_test_delay, y_train_delay, y_test_delay = train_test_split(features, target, test_size = 0.25)\n",
    "    \n",
    "    gscv_reg_ridge.fit(X_train_delay, y_train_delay)\n",
    "    y_pred_rd_delay = gscv_reg_ridge.predict(X_test_delay)\n",
    "    R2_rd_delay = r2_score(y_test_delay, y_pred_rd_delay)\n",
    "    RMSE_rd_delay = np.sqrt(mean_squared_error(y_test_delay, y_pred_rd_delay))\n",
    "    \n",
    "    gscv_reg_lasso.fit(X_train_delay, y_train_delay)\n",
    "    y_pred_ls_delay = gscv_reg_lasso.predict(X_test_delay)\n",
    "    R2_ls_delay = r2_score(y_test_delay, y_pred_ls_delay)\n",
    "    RMSE_ls_delay = np.sqrt(mean_squared_error(y_test_delay, y_pred_ls_delay))\n",
    "       \n",
    "    gscv_reg_DT.fit(X_train_delay, y_train_delay)\n",
    "    y_pred_DT_delay = gscv_reg_DT.predict(X_test_delay)\n",
    "    R2_DT_delay = r2_score(y_test_delay, y_pred_DT_delay)\n",
    "    RMSE_DT_delay = np.sqrt(mean_squared_error(y_test_delay, y_pred_DT_delay))\n",
    "    \n",
    "\n",
    "    return(R2_rd_delay, RMSE_rd_delay, R2_ls_delay, RMSE_ls_delay, R2_DT_delay, RMSE_DT_delay)   "
   ]
  },
  {
   "cell_type": "code",
   "execution_count": 57,
   "metadata": {},
   "outputs": [
    {
     "name": "stderr",
     "output_type": "stream",
     "text": [
      "C:\\Users\\adild\\Anaconda3\\envs\\deeplearningaz\\lib\\site-packages\\sklearn\\linear_model\\coordinate_descent.py:491: ConvergenceWarning: Objective did not converge. You might want to increase the number of iterations. Fitting data with very small alpha may cause precision problems.\n",
      "  ConvergenceWarning)\n",
      "C:\\Users\\adild\\Anaconda3\\envs\\deeplearningaz\\lib\\site-packages\\sklearn\\linear_model\\coordinate_descent.py:491: ConvergenceWarning: Objective did not converge. You might want to increase the number of iterations. Fitting data with very small alpha may cause precision problems.\n",
      "  ConvergenceWarning)\n",
      "C:\\Users\\adild\\Anaconda3\\envs\\deeplearningaz\\lib\\site-packages\\sklearn\\linear_model\\coordinate_descent.py:491: ConvergenceWarning: Objective did not converge. You might want to increase the number of iterations. Fitting data with very small alpha may cause precision problems.\n",
      "  ConvergenceWarning)\n",
      "C:\\Users\\adild\\Anaconda3\\envs\\deeplearningaz\\lib\\site-packages\\sklearn\\linear_model\\coordinate_descent.py:491: ConvergenceWarning: Objective did not converge. You might want to increase the number of iterations. Fitting data with very small alpha may cause precision problems.\n",
      "  ConvergenceWarning)\n",
      "C:\\Users\\adild\\Anaconda3\\envs\\deeplearningaz\\lib\\site-packages\\sklearn\\linear_model\\coordinate_descent.py:491: ConvergenceWarning: Objective did not converge. You might want to increase the number of iterations. Fitting data with very small alpha may cause precision problems.\n",
      "  ConvergenceWarning)\n",
      "C:\\Users\\adild\\Anaconda3\\envs\\deeplearningaz\\lib\\site-packages\\sklearn\\linear_model\\coordinate_descent.py:491: ConvergenceWarning: Objective did not converge. You might want to increase the number of iterations. Fitting data with very small alpha may cause precision problems.\n",
      "  ConvergenceWarning)\n",
      "C:\\Users\\adild\\Anaconda3\\envs\\deeplearningaz\\lib\\site-packages\\sklearn\\linear_model\\coordinate_descent.py:491: ConvergenceWarning: Objective did not converge. You might want to increase the number of iterations. Fitting data with very small alpha may cause precision problems.\n",
      "  ConvergenceWarning)\n",
      "C:\\Users\\adild\\Anaconda3\\envs\\deeplearningaz\\lib\\site-packages\\sklearn\\linear_model\\coordinate_descent.py:491: ConvergenceWarning: Objective did not converge. You might want to increase the number of iterations. Fitting data with very small alpha may cause precision problems.\n",
      "  ConvergenceWarning)\n",
      "C:\\Users\\adild\\Anaconda3\\envs\\deeplearningaz\\lib\\site-packages\\sklearn\\linear_model\\coordinate_descent.py:491: ConvergenceWarning: Objective did not converge. You might want to increase the number of iterations. Fitting data with very small alpha may cause precision problems.\n",
      "  ConvergenceWarning)\n",
      "C:\\Users\\adild\\Anaconda3\\envs\\deeplearningaz\\lib\\site-packages\\sklearn\\linear_model\\coordinate_descent.py:491: ConvergenceWarning: Objective did not converge. You might want to increase the number of iterations. Fitting data with very small alpha may cause precision problems.\n",
      "  ConvergenceWarning)\n",
      "C:\\Users\\adild\\Anaconda3\\envs\\deeplearningaz\\lib\\site-packages\\sklearn\\linear_model\\coordinate_descent.py:491: ConvergenceWarning: Objective did not converge. You might want to increase the number of iterations. Fitting data with very small alpha may cause precision problems.\n",
      "  ConvergenceWarning)\n",
      "C:\\Users\\adild\\Anaconda3\\envs\\deeplearningaz\\lib\\site-packages\\sklearn\\linear_model\\coordinate_descent.py:491: ConvergenceWarning: Objective did not converge. You might want to increase the number of iterations. Fitting data with very small alpha may cause precision problems.\n",
      "  ConvergenceWarning)\n",
      "C:\\Users\\adild\\Anaconda3\\envs\\deeplearningaz\\lib\\site-packages\\sklearn\\linear_model\\coordinate_descent.py:491: ConvergenceWarning: Objective did not converge. You might want to increase the number of iterations. Fitting data with very small alpha may cause precision problems.\n",
      "  ConvergenceWarning)\n",
      "C:\\Users\\adild\\Anaconda3\\envs\\deeplearningaz\\lib\\site-packages\\sklearn\\linear_model\\coordinate_descent.py:491: ConvergenceWarning: Objective did not converge. You might want to increase the number of iterations. Fitting data with very small alpha may cause precision problems.\n",
      "  ConvergenceWarning)\n",
      "C:\\Users\\adild\\Anaconda3\\envs\\deeplearningaz\\lib\\site-packages\\sklearn\\linear_model\\coordinate_descent.py:491: ConvergenceWarning: Objective did not converge. You might want to increase the number of iterations. Fitting data with very small alpha may cause precision problems.\n",
      "  ConvergenceWarning)\n"
     ]
    },
    {
     "name": "stdout",
     "output_type": "stream",
     "text": [
      "Ridge_All_Var: 0.8495174761923494 9.503271867867703\n",
      "Lasso_All_Var: 0.8506453715242224 9.467590461153609\n",
      "DT_All_Var: 0.8187206143567651 10.430480868502976\n"
     ]
    }
   ],
   "source": [
    "R2_rd_delay, RMSE_rd_delay, R2_ls_delay, RMSE_ls_delay, R2_DT_delay, RMSE_DT_delay = reg_with_delay_vars()\n",
    "                                                                                                                                                                                                            \n",
    "print('Ridge_All_Var:', R2_rd_delay, RMSE_rd_delay)\n",
    "print('Lasso_All_Var:', R2_ls_delay, RMSE_ls_delay)\n",
    "print('DT_All_Var:', R2_DT_delay, RMSE_DT_delay)"
   ]
  },
  {
   "cell_type": "markdown",
   "metadata": {
    "colab_type": "text",
    "id": "rkG8OAKRscIy"
   },
   "source": [
    "### 3.9 Final Model "
   ]
  },
  {
   "cell_type": "markdown",
   "metadata": {},
   "source": [
    "#### 3.9.1 Comparison and Selection (Without Delay Variables)"
   ]
  },
  {
   "cell_type": "code",
   "execution_count": 58,
   "metadata": {
    "colab": {},
    "colab_type": "code",
    "id": "YioLIrsXtsZg"
   },
   "outputs": [],
   "source": [
    "Models_comparison_without_delay = pd.DataFrame({'Linear Regression PCA':[r2_pca_lr,rmse_pca_lr],'Ridge Regression':[r2_rr,rmse_rr],'Lasso Regression':[r2_lr,rmse_lr],\n",
    "                                                'Decision Tree Regression':[r2_dt, rmse_dt]}, index = ['R2','RMSE'])"
   ]
  },
  {
   "cell_type": "code",
   "execution_count": 59,
   "metadata": {
    "colab": {
     "base_uri": "https://localhost:8080/",
     "height": 110
    },
    "colab_type": "code",
    "id": "5HlUSAVUSdaS",
    "outputId": "f461c448-14ca-437a-b73f-f9e6c609ba2d"
   },
   "outputs": [
    {
     "data": {
      "text/html": [
       "<div>\n",
       "<style scoped>\n",
       "    .dataframe tbody tr th:only-of-type {\n",
       "        vertical-align: middle;\n",
       "    }\n",
       "\n",
       "    .dataframe tbody tr th {\n",
       "        vertical-align: top;\n",
       "    }\n",
       "\n",
       "    .dataframe thead th {\n",
       "        text-align: right;\n",
       "    }\n",
       "</style>\n",
       "<table border=\"1\" class=\"dataframe\">\n",
       "  <thead>\n",
       "    <tr style=\"text-align: right;\">\n",
       "      <th></th>\n",
       "      <th>Linear Regression PCA</th>\n",
       "      <th>Ridge Regression</th>\n",
       "      <th>Lasso Regression</th>\n",
       "      <th>Decision Tree Regression</th>\n",
       "    </tr>\n",
       "  </thead>\n",
       "  <tbody>\n",
       "    <tr>\n",
       "      <th>R2</th>\n",
       "      <td>-0.075448</td>\n",
       "      <td>0.062208</td>\n",
       "      <td>0.062548</td>\n",
       "      <td>-1.235576</td>\n",
       "    </tr>\n",
       "    <tr>\n",
       "      <th>RMSE</th>\n",
       "      <td>24.831505</td>\n",
       "      <td>23.696559</td>\n",
       "      <td>23.692259</td>\n",
       "      <td>28.964088</td>\n",
       "    </tr>\n",
       "  </tbody>\n",
       "</table>\n",
       "</div>"
      ],
      "text/plain": [
       "      Linear Regression PCA  Ridge Regression  Lasso Regression  \\\n",
       "R2                -0.075448          0.062208          0.062548   \n",
       "RMSE              24.831505         23.696559         23.692259   \n",
       "\n",
       "      Decision Tree Regression  \n",
       "R2                   -1.235576  \n",
       "RMSE                 28.964088  "
      ]
     },
     "execution_count": 59,
     "metadata": {},
     "output_type": "execute_result"
    }
   ],
   "source": [
    "Models_comparison_without_delay"
   ]
  },
  {
   "cell_type": "markdown",
   "metadata": {},
   "source": [
    "#### 3.9.2 Comparison and Selection (WithDelay Variables)"
   ]
  },
  {
   "cell_type": "code",
   "execution_count": 60,
   "metadata": {},
   "outputs": [],
   "source": [
    "Models_comparison_with_delay = pd.DataFrame({'Ridge Regression_delay':[R2_rd_delay, RMSE_rd_delay],'Lasso Regression_delay':[R2_ls_delay, RMSE_ls_delay],\n",
    "                                             'Decision Tree Regression_delay':[R2_DT_delay, RMSE_DT_delay]}, index = ['R2','RMSE'])"
   ]
  },
  {
   "cell_type": "code",
   "execution_count": 61,
   "metadata": {},
   "outputs": [
    {
     "data": {
      "text/html": [
       "<div>\n",
       "<style scoped>\n",
       "    .dataframe tbody tr th:only-of-type {\n",
       "        vertical-align: middle;\n",
       "    }\n",
       "\n",
       "    .dataframe tbody tr th {\n",
       "        vertical-align: top;\n",
       "    }\n",
       "\n",
       "    .dataframe thead th {\n",
       "        text-align: right;\n",
       "    }\n",
       "</style>\n",
       "<table border=\"1\" class=\"dataframe\">\n",
       "  <thead>\n",
       "    <tr style=\"text-align: right;\">\n",
       "      <th></th>\n",
       "      <th>Ridge Regression_delay</th>\n",
       "      <th>Lasso Regression_delay</th>\n",
       "      <th>Decision Tree Regression_delay</th>\n",
       "    </tr>\n",
       "  </thead>\n",
       "  <tbody>\n",
       "    <tr>\n",
       "      <th>R2</th>\n",
       "      <td>0.849517</td>\n",
       "      <td>0.850645</td>\n",
       "      <td>0.818721</td>\n",
       "    </tr>\n",
       "    <tr>\n",
       "      <th>RMSE</th>\n",
       "      <td>9.503272</td>\n",
       "      <td>9.467590</td>\n",
       "      <td>10.430481</td>\n",
       "    </tr>\n",
       "  </tbody>\n",
       "</table>\n",
       "</div>"
      ],
      "text/plain": [
       "      Ridge Regression_delay  Lasso Regression_delay  \\\n",
       "R2                  0.849517                0.850645   \n",
       "RMSE                9.503272                9.467590   \n",
       "\n",
       "      Decision Tree Regression_delay  \n",
       "R2                          0.818721  \n",
       "RMSE                       10.430481  "
      ]
     },
     "execution_count": 61,
     "metadata": {},
     "output_type": "execute_result"
    }
   ],
   "source": [
    "Models_comparison_with_delay"
   ]
  },
  {
   "cell_type": "markdown",
   "metadata": {},
   "source": [
    "#### 3.9.3  Most important delay variables"
   ]
  },
  {
   "cell_type": "code",
   "execution_count": 62,
   "metadata": {},
   "outputs": [],
   "source": [
    "def rd_reg(cols_delay):\n",
    "\n",
    "    features = df_model_sc[cols_delay].values\n",
    "    target = df_model_sc['DEP_DELAY'].values\n",
    "\n",
    "    X_train_rd, X_test_rd, y_train_rd, y_test_rd = train_test_split(features, target, test_size = 0.25)\n",
    "    \n",
    "    \n",
    "    gscv_reg_ridge.fit(X_train_rd, y_train_rd)\n",
    "\n",
    "    y_pred_rd = gscv_reg_ridge.predict(X_test_rd)\n",
    "\n",
    "    R2_rd = r2_score(y_test_rd, y_pred_rd)\n",
    "    RMSE_rd = np.sqrt(mean_squared_error(y_test_rd, y_pred_rd))\n",
    "\n",
    "    return(R2_rd, RMSE_rd)   "
   ]
  },
  {
   "cell_type": "code",
   "execution_count": 63,
   "metadata": {},
   "outputs": [
    {
     "name": "stdout",
     "output_type": "stream",
     "text": [
      "CARRIER_Delay: 0.13915449528633572 23.03832676198628\n",
      "CARRIER_WEATHER_Delay: 0.14065441380890498 22.73001063722579\n",
      "CARRIER_WEATHER_NAS_Delay: 0.31955206542509007 20.21210723130803\n",
      "CARRIER_WEATHER_NAS_SECURITY_Delay: 0.3119396663052836 19.824196802188716\n",
      "CARRIER_WEATHER_NAS_SECURITY_LATE_AIRCRAFT_Delay: 0.8319642713999248 10.06924410291409\n"
     ]
    }
   ],
   "source": [
    "#R2_rd_0, RMSE_rd_0 = rd_reg(df_model_sc.columns.drop(['DEP_DELAY', 'CARRIER_DELAY', 'WEATHER_DELAY', 'NAS_DELAY',\n",
    "                                                      #'SECURITY_DELAY', 'LATE_AIRCRAFT_DELAY']))                                                                                       \n",
    "#print('Without_Delay:', R2_rd_0, RMSE_rd_0)\n",
    "\n",
    "R2_rd_1, RMSE_rd_1 = rd_reg(df_model_sc.columns.drop(['DEP_DELAY', 'WEATHER_DELAY', 'NAS_DELAY', 'SECURITY_DELAY',\n",
    "                                                      'LATE_AIRCRAFT_DELAY']))\n",
    "print('CARRIER_Delay:', R2_rd_1, RMSE_rd_1)\n",
    "\n",
    "R2_rd_2, RMSE_rd_2 = rd_reg(df_model_sc.columns.drop(['DEP_DELAY', 'NAS_DELAY', 'SECURITY_DELAY', 'LATE_AIRCRAFT_DELAY']))                      \n",
    "print('CARRIER_WEATHER_Delay:', R2_rd_2, RMSE_rd_2)\n",
    "\n",
    "R2_rd_3, RMSE_rd_3 = rd_reg(df_model_sc.columns.drop(['DEP_DELAY', 'SECURITY_DELAY', 'LATE_AIRCRAFT_DELAY']))                 \n",
    "print('CARRIER_WEATHER_NAS_Delay:', R2_rd_3, RMSE_rd_3)\n",
    "\n",
    "R2_rd_4, RMSE_rd_4 = rd_reg(df_model_sc.columns.drop(['DEP_DELAY', 'LATE_AIRCRAFT_DELAY']))                             \n",
    "print('CARRIER_WEATHER_NAS_SECURITY_Delay:', R2_rd_4, RMSE_rd_4)\n",
    "\n",
    "R2_rd_5, RMSE_rd_5 = rd_reg(df_model_sc.columns.drop(['DEP_DELAY']))                         \n",
    "print('CARRIER_WEATHER_NAS_SECURITY_LATE_AIRCRAFT_Delay:', R2_rd_5, RMSE_rd_5)"
   ]
  },
  {
   "cell_type": "code",
   "execution_count": 65,
   "metadata": {},
   "outputs": [
    {
     "name": "stdout",
     "output_type": "stream",
     "text": [
      "CARRIER_NAS_LATE_AIRCRAFT_Delay: 0.8380542224306906 9.88183485995838\n"
     ]
    }
   ],
   "source": [
    "# See the results without 'SECURITY_DELAY'\n",
    "#Delete 'SECURITY_DELAY' variable\n",
    "R2_rd_6, RMSE_rd_6 = rd_reg(df_model_sc.columns.drop(['DEP_DELAY', 'SECURITY_DELAY', 'WEATHER_DELAY']))                         \n",
    "print('CARRIER_NAS_LATE_AIRCRAFT_Delay:', R2_rd_6, RMSE_rd_6)"
   ]
  },
  {
   "cell_type": "code",
   "execution_count": 66,
   "metadata": {},
   "outputs": [
    {
     "data": {
      "text/html": [
       "<div>\n",
       "<style scoped>\n",
       "    .dataframe tbody tr th:only-of-type {\n",
       "        vertical-align: middle;\n",
       "    }\n",
       "\n",
       "    .dataframe tbody tr th {\n",
       "        vertical-align: top;\n",
       "    }\n",
       "\n",
       "    .dataframe thead th {\n",
       "        text-align: right;\n",
       "    }\n",
       "</style>\n",
       "<table border=\"1\" class=\"dataframe\">\n",
       "  <thead>\n",
       "    <tr style=\"text-align: right;\">\n",
       "      <th></th>\n",
       "      <th>CARRIER_DELAY</th>\n",
       "      <th>NAS_DELAY</th>\n",
       "      <th>LATE_AIRCRAFT_DELAY</th>\n",
       "    </tr>\n",
       "  </thead>\n",
       "  <tbody>\n",
       "    <tr>\n",
       "      <th>0</th>\n",
       "      <td>0</td>\n",
       "      <td>31</td>\n",
       "      <td>0</td>\n",
       "    </tr>\n",
       "    <tr>\n",
       "      <th>1</th>\n",
       "      <td>39</td>\n",
       "      <td>41</td>\n",
       "      <td>0</td>\n",
       "    </tr>\n",
       "    <tr>\n",
       "      <th>2</th>\n",
       "      <td>20</td>\n",
       "      <td>2</td>\n",
       "      <td>0</td>\n",
       "    </tr>\n",
       "    <tr>\n",
       "      <th>3</th>\n",
       "      <td>0</td>\n",
       "      <td>14</td>\n",
       "      <td>17</td>\n",
       "    </tr>\n",
       "    <tr>\n",
       "      <th>4</th>\n",
       "      <td>18</td>\n",
       "      <td>0</td>\n",
       "      <td>0</td>\n",
       "    </tr>\n",
       "  </tbody>\n",
       "</table>\n",
       "</div>"
      ],
      "text/plain": [
       "   CARRIER_DELAY  NAS_DELAY  LATE_AIRCRAFT_DELAY\n",
       "0              0         31                    0\n",
       "1             39         41                    0\n",
       "2             20          2                    0\n",
       "3              0         14                   17\n",
       "4             18          0                    0"
      ]
     },
     "execution_count": 66,
     "metadata": {},
     "output_type": "execute_result"
    }
   ],
   "source": [
    "df_delay = df_model.iloc[: , 0:5].drop(['SECURITY_DELAY', 'WEATHER_DELAY'], axis=1)\n",
    "df_delay.head()"
   ]
  },
  {
   "cell_type": "code",
   "execution_count": 67,
   "metadata": {},
   "outputs": [],
   "source": [
    "df_delay.to_csv('06_data_delay.csv')"
   ]
  },
  {
   "cell_type": "code",
   "execution_count": null,
   "metadata": {},
   "outputs": [],
   "source": []
  }
 ],
 "metadata": {
  "colab": {
   "collapsed_sections": [],
   "name": " 02_Modelisation_scaling.ipynb",
   "provenance": []
  },
  "kernelspec": {
   "display_name": "Python 3",
   "language": "python",
   "name": "python3"
  },
  "language_info": {
   "codemirror_mode": {
    "name": "ipython",
    "version": 3
   },
   "file_extension": ".py",
   "mimetype": "text/x-python",
   "name": "python",
   "nbconvert_exporter": "python",
   "pygments_lexer": "ipython3",
   "version": "3.6.10"
  }
 },
 "nbformat": 4,
 "nbformat_minor": 1
}
