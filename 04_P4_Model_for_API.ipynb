{
 "cells": [
  {
   "cell_type": "markdown",
   "metadata": {},
   "source": [
    "# Projet 4 : **Anticiper le retard de vols des avions**"
   ]
  },
  {
   "cell_type": "markdown",
   "metadata": {},
   "source": [
    "## **1.Libraries**"
   ]
  },
  {
   "cell_type": "code",
   "execution_count": 1,
   "metadata": {},
   "outputs": [],
   "source": [
    "import numpy as np\n",
    "import pandas as pd\n",
    "import pickle\n",
    "import gzip\n",
    "from sklearn.externals import joblib\n",
    "from sklearn.preprocessing import StandardScaler\n",
    "import itertools\n",
    "from sklearn.externals import joblib"
   ]
  },
  {
   "cell_type": "markdown",
   "metadata": {},
   "source": [
    "## **2.API Inputs**"
   ]
  },
  {
   "cell_type": "code",
   "execution_count": 3,
   "metadata": {},
   "outputs": [],
   "source": [
    "API_info = open('input_API.joblib', 'rb')\n",
    "input_API = joblib.load(API_info)\n",
    "input_API_0 = np.zeros(len(input_API))"
   ]
  },
  {
   "cell_type": "code",
   "execution_count": 4,
   "metadata": {},
   "outputs": [],
   "source": [
    "input_API_0[input_API['MONTH_'+str(2)]] = 1\n",
    "input_API_0[input_API['DAY_OF_MONTH_'+str(15)]] = 1\n",
    "input_API_0[input_API['DAY_OF_WEEK_'+str(4)]] = 1\n",
    "input_API_0[input_API['CARRIER_'+str('WN')]] = 1\n",
    "input_API_0[input_API['ORIGIN_CITY_NAME_'+str('Atlanta, GA')]] = 1\n",
    "input_API_0[input_API['DEST_CITY_NAME_'+str('Boston, MA')]] = 1\n",
    "input_API_0[input_API['CRS_DEP_TIME_'+str(10)]] = 1"
   ]
  },
  {
   "cell_type": "code",
   "execution_count": 5,
   "metadata": {},
   "outputs": [],
   "source": [
    "input_API_on = input_API_0"
   ]
  },
  {
   "cell_type": "code",
   "execution_count": 6,
   "metadata": {},
   "outputs": [],
   "source": [
    "sc = StandardScaler()\n",
    "delay_var_output = []\n",
    "input_API_on_1 = input_API_on.reshape(-1, 1)"
   ]
  },
  {
   "cell_type": "markdown",
   "metadata": {},
   "source": [
    "## **3.Delay Variables Prediction**"
   ]
  },
  {
   "cell_type": "markdown",
   "metadata": {},
   "source": [
    "### **3.1.Delay Carrier Prediction**"
   ]
  },
  {
   "cell_type": "code",
   "execution_count": 7,
   "metadata": {},
   "outputs": [],
   "source": [
    "API_info_carrier = open('gscv_reg_carrier_delay_knn.joblib', 'rb')\n",
    "gscv_reg_carrier_delay_knn = joblib.load(API_info_carrier)\n",
    "predict_carrier = gscv_reg_carrier_delay_knn.predict(input_API_on_1.T)\n",
    "delay_var_output.append(predict_carrier)"
   ]
  },
  {
   "cell_type": "markdown",
   "metadata": {},
   "source": [
    "### **3.2.Delay NAS Prediction**"
   ]
  },
  {
   "cell_type": "code",
   "execution_count": 8,
   "metadata": {},
   "outputs": [],
   "source": [
    "API_info_NAS = open('gscv_reg_NAS_delay_knn.joblib', 'rb')\n",
    "gscv_reg_NAS_delay_knn = joblib.load(API_info_NAS)\n",
    "predict_NAS = gscv_reg_NAS_delay_knn.predict(input_API_on_1.T)\n",
    "delay_var_output.append(predict_NAS)"
   ]
  },
  {
   "cell_type": "markdown",
   "metadata": {},
   "source": [
    "### **3.3.Delay Aircraft Prediction**"
   ]
  },
  {
   "cell_type": "code",
   "execution_count": 9,
   "metadata": {},
   "outputs": [],
   "source": [
    "API_info_AIRCRAFT = open('gscv_reg_AIRCRAFT_delay_knn.joblib', 'rb')\n",
    "gscv_reg_AIRCRAFT_delay_knn = joblib.load(API_info_AIRCRAFT)\n",
    "predict_AIRCRAFT = gscv_reg_AIRCRAFT_delay_knn.predict(input_API_on_1.T)\n",
    "delay_var_output.append(predict_AIRCRAFT)"
   ]
  },
  {
   "cell_type": "markdown",
   "metadata": {},
   "source": [
    "### 3.4.Delay Outputs and API Inputs Integration "
   ]
  },
  {
   "cell_type": "code",
   "execution_count": 10,
   "metadata": {},
   "outputs": [],
   "source": [
    "delay_var_output = sc.fit_transform(delay_var_output)\n",
    "    \n",
    "def oneDArray(x):\n",
    "    return list(itertools.chain(*x))\n",
    "delay_var_output = oneDArray(delay_var_output)\n",
    "input_Final = np.concatenate((input_API_on,delay_var_output))\n",
    "input_Final = input_Final.reshape(-1,1)"
   ]
  },
  {
   "cell_type": "markdown",
   "metadata": {},
   "source": [
    "### 3.5. Departure Delay Prediction "
   ]
  },
  {
   "cell_type": "code",
   "execution_count": 11,
   "metadata": {},
   "outputs": [],
   "source": [
    "API_info_dep = open('gscv_reg_ridge.joblib', 'rb')\n",
    "gscv_reg_ridge = joblib.load(API_info_dep)\n",
    "predict_dep_delay = int(gscv_reg_ridge.predict(input_Final.T))"
   ]
  },
  {
   "cell_type": "code",
   "execution_count": 12,
   "metadata": {},
   "outputs": [
    {
     "data": {
      "text/plain": [
       "2"
      ]
     },
     "execution_count": 12,
     "metadata": {},
     "output_type": "execute_result"
    }
   ],
   "source": [
    "predict_dep_delay"
   ]
  },
  {
   "cell_type": "code",
   "execution_count": null,
   "metadata": {},
   "outputs": [],
   "source": []
  }
 ],
 "metadata": {
  "kernelspec": {
   "display_name": "Python 3",
   "language": "python",
   "name": "python3"
  },
  "language_info": {
   "codemirror_mode": {
    "name": "ipython",
    "version": 3
   },
   "file_extension": ".py",
   "mimetype": "text/x-python",
   "name": "python",
   "nbconvert_exporter": "python",
   "pygments_lexer": "ipython3",
   "version": "3.6.10"
  }
 },
 "nbformat": 4,
 "nbformat_minor": 4
}
